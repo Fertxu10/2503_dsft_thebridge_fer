{
 "cells": [
  {
   "attachments": {},
   "cell_type": "markdown",
   "metadata": {},
   "source": [
    "### Importa los datos\n",
    "Dataset con diferentes fármacos, sus efectos y ratings de los clientes.\n",
    "\n",
    "Importa el dataset *drugLibTrain_raw.tsv*"
   ]
  },
  {
   "cell_type": "code",
   "execution_count": 1,
   "metadata": {},
   "outputs": [],
   "source": [
    "import numpy as np\n",
    "import pandas as pd\n",
    "import matplotlib.pyplot as plt\n",
    "import seaborn as sns"
   ]
  },
  {
   "cell_type": "code",
   "execution_count": 2,
   "metadata": {},
   "outputs": [
    {
     "data": {
      "application/vnd.microsoft.datawrangler.viewer.v0+json": {
       "columns": [
        {
         "name": "index",
         "rawType": "int64",
         "type": "integer"
        },
        {
         "name": "urlDrugName",
         "rawType": "object",
         "type": "string"
        },
        {
         "name": "rating",
         "rawType": "int64",
         "type": "integer"
        },
        {
         "name": "effectiveness",
         "rawType": "object",
         "type": "string"
        },
        {
         "name": "sideEffects",
         "rawType": "object",
         "type": "string"
        },
        {
         "name": "condition",
         "rawType": "object",
         "type": "unknown"
        },
        {
         "name": "benefitsReview",
         "rawType": "object",
         "type": "unknown"
        },
        {
         "name": "sideEffectsReview",
         "rawType": "object",
         "type": "unknown"
        },
        {
         "name": "commentsReview",
         "rawType": "object",
         "type": "unknown"
        }
       ],
       "conversionMethod": "pd.DataFrame",
       "ref": "85c47bb2-eada-4b70-98ba-d4c430fea2f5",
       "rows": [
        [
         "2202",
         "enalapril",
         "4",
         "Highly Effective",
         "Mild Side Effects",
         "management of congestive heart failure",
         "slowed the progression of left ventricular dysfunction into overt heart failure \r\r\nalone or with other agents in the managment of hypertension \r\r\nmangagement of congestive heart failur",
         "cough, hypotension , proteinuria, impotence , renal failure , angina pectoris , tachycardia , eosinophilic pneumonitis, tastes disturbances , anusease anorecia , weakness fatigue insominca weakness",
         "monitor blood pressure , weight and asses for resolution of fluid"
        ],
        [
         "3117",
         "ortho-tri-cyclen",
         "1",
         "Highly Effective",
         "Severe Side Effects",
         "birth prevention",
         "Although this type of birth control has more cons than pros, it did help with my cramps. It's also effective with the prevention of pregnancy. (Along with use of condoms as well)",
         "Heavy Cycle, Cramps, Hot Flashes, Fatigue, Long Lasting Cycles. It's only been 5 1/2 months, but i'm concidering changing to a different bc. This is my first time using any kind of bc, unfortunately due to the constant hassel, i'm not happy with the results.",
         "I Hate This Birth Control, I Would Not Suggest This To Anyone."
        ],
        [
         "1146",
         "ponstel",
         "10",
         "Highly Effective",
         "No Side Effects",
         "menstrual cramps",
         "I was used to having cramps so badly that they would leave me balled up in bed for at least 2 days.  The Ponstel doesn't take the pain away completely, but takes the edge off so much that normal activities were possible. Definitely a miracle medication!!",
         "Heavier bleeding and clotting than normal.",
         "I took 2 pills at the onset of my menstrual cramps and then every 8-12 hours took 1 pill as needed for about 3-4 days until cramps were over. If cramps are bad, make sure to take every 8 hours on the dot because the medication stops working suddenly and unfortunately takes about an hour to an hour and a half to kick back in.. if cramps are only moderate, taking every 12 hours is okay."
        ],
        [
         "3947",
         "prilosec",
         "3",
         "Marginally Effective",
         "Mild Side Effects",
         "acid reflux",
         "The acid reflux went away for a few months after just a few days of being on the drug. The heartburn started again as soon as I stopped taking it. So I began treatment again. 6 months passed and I stopped taking it. The heartburn came back, and seemed worse even. The doctor said I should try another 6 month treatment. I did, and the same exact thing happened. This went on for about three years. I asked why this wasn't curing my reflux. The doctor quite frankly told me that it wasn't a cure, but a \"treatment for the symptoms\". I was told that I would probably be on it for the rest of my life.",
         "Constipation, dry mouth and some mild dizziness that would go away after medication was stopped for a few days.",
         "I was given Prilosec prescription at a dose of 45mg per day. Medication was taken once, every morning before eating. Each treatment duration was for 6 months."
        ],
        [
         "1951",
         "lyrica",
         "2",
         "Marginally Effective",
         "Severe Side Effects",
         "fibromyalgia",
         "I think that the Lyrica was starting to help with the pain, but the side-effects were just too severe to continue.",
         "I felt extremely drugged and dopey.  Could not drive at all while on this med.  Also had extreme ankle and feet swelling and couldn't even wear shoes.",
         "See above"
        ],
        [
         "2372",
         "propecia",
         "1",
         "Ineffective",
         "Severe Side Effects",
         "hair loss",
         "after taking propecia for over a year, starting when i was 20 years of age my hair continued to thin, and i noticed no significant benefits",
         "Low sex drive, before i started taking this drug i was 19 years of age and full of \"enthousiasm\". Now engaged and 21 years old, my sex drive is very low, my wife and I are very unsatisfied. I am also very tired even during peak hours throughout the day, and its hard to concentrate on mundain tasks",
         "one pill once daily"
        ],
        [
         "1043",
         "vyvanse",
         "9",
         "Highly Effective",
         "Mild Side Effects",
         "add",
         "My mood has noticably improved, I have more energy, experience better sleep and digestion.",
         "a few experiences of nausiea, heavy moodswings on the days I do not take it, decreased appetite, and some negative affect on my short-term memory.",
         "I had began taking 20mg of Vyvanse for three months and was surprised to find that such a small dose affected my mood so effectively.  When it came to school work though I found that I needed the 30mg to increase my level of focus (and have been on it for a month since).  I had not experienced decreased appetite until about a month into taking the 20mg.  I find that the greatest benefit of Vyvanse for me is that it tends to stabalize my mood on a daily basis and lessens any bouts of anxiety and depression that i used to face before I was perscribed."
        ],
        [
         "2715",
         "elavil",
         "10",
         "Considerably Effective",
         "No Side Effects",
         "depression",
         "Although this drug was originally prescribed for depression, it helped with sleeplessness. Therefore, I have continued to take it for that alone. While I still on occasion have problems falling asleep, I find I can combine it with Melatonin or Valerian. In 12 years, I haven't had to increase the elavil dosage.",
         "None.",
         "One a day, taken about an hour before bedtime."
        ],
        [
         "1591",
         "xanax",
         "10",
         "Highly Effective",
         "No Side Effects",
         "panic disorder",
         "This simply just works fast and without any of the nasty side effects of SSRI medicines. I won't go into a long story of my panic attacks which I sought help for many years after the fact. This just works and it does what it's supposed to without any annoying side effects. When taken daily, it has stopped my panic attacks from starting and thinking patterns that lead to them. I find it can also be used as needed along with the daily treatment.",
         "I really don't have any side effects other than the mild but very tolerable issue of taking it 4-5 times a day which isn't an effect but just the way you need to take this. At first, within the first 1 day then couple of weeks after starting, this medicine is broken down by your body fast and you need to adjust your dose. Once I got past the ups and downs of the first week or two of getting this increased from .25 mg - 3 times per day to what I'm on now things are so stable and just smooth.",
         "I first started taking this at 3 times per day with .25 mg pills. I was advised not to take as needed with my panic attacks as that would reinforce the idea of taking a pill when it's needed and not help me work around my anxiety. This is totally true. At first I wished to only take them as needed but with my doctor's advice, he was right. This really does work when you take it daily at 3-5 times per day. This way your body adjusts to what's going on with the panic and makes no association with taking a pill to prevent or stop it, they just don't start in the first place. Yes, I still do have minor attacks and worry episodes here and there but nothing at all like the many years before this. I wish that this extremely helpful medicine would not have such a bad name in media, news and pharmacies. This works wonders and there is no want or need to take more or become and addict. People and doctor's need to  understand more on how to treat someone with something that just WORKS, rather than trying to give them SSRI's which are what the drugs companies push, all for money reasons. And, the doctor's out there who decide that SSRI's are the only option, they need to go back to medical school!"
        ],
        [
         "1686",
         "claritin",
         "1",
         "Ineffective",
         "Extremely Severe Side Effects",
         "allergies",
         "none - did nothing to help allergies. i just had a dryer, more painful version of my allergies with new allergies/irritations developing on top of my original ones. this stuff is dangerous and the side effects that many people are experiencing are not listed on the package. a class action lawsuit needs to happen.",
         "I had some horrifying mental and physical side effects. ruined a year of my life.  read this - it mentions everything i dealt with: http://www.askapatient.com/viewrating.asp?drug=19658&name=CLARITIN",
         "took one 10 mg pill nightly."
        ],
        [
         "458",
         "flagyl",
         "7",
         "Considerably Effective",
         "Moderate Side Effects",
         "bacterial vaginosis",
         "I experienced complete clearing of the Vaginosis after the regimin was completed.",
         "I did get a mild yeast infection during treatment.",
         "I took the antibiotic as prescribed every day, twice a day, one pill each time. My Bacterial Vaginosis cleared up after treatment. However, I did have a slight yeast infection that went away with an OTC treatment."
        ],
        [
         "3479",
         "dextroamphetamine",
         "8",
         "Highly Effective",
         "Moderate Side Effects",
         "add",
         "Smoother more gradual onset and effect than Adderall. Effective at controlling ADD symptoms previously controlled by Adderall however this drug seems more natural and transparent. Less tension and anxiety. Less \"druggy\" unnatural feelings and thoughts.",
         "Dexerine IR tablets need to be taken more often than adderall and also wear off more abruptly. Generic tablets are not high quality and somewhat expensive due to the need for a large quantity of tablets.",
         "Switched from Adderall to Dexedrine to compare the effects. Dexedrine is simply dextroamphetamine while Adderall is a mixture of Amphetamine salts. This might explain the increased effectiveness of the Dexedrine contrary to popular belief. I found it important to take several relatively low doses frequently to achieve a balanced effect."
        ],
        [
         "959",
         "sarafem",
         "8",
         "Considerably Effective",
         "Mild Side Effects",
         "depression",
         "I found that this drug helps significantly with my level of depression and monthly irritability that occurs around my menstrual cycles.",
         "My sides effects were not noticeable and very mild.  I have noticed some lower libido while on Fluoxetine, but no other noticeable side effects.",
         "This was prescribes to me for treatment for depression, seasonable disorder and hormonal irritability.   I have gone off this medication while pregnant, but have resumed to help ease depression issues."
        ],
        [
         "928",
         "latisse",
         "9",
         "Considerably Effective",
         "Mild Side Effects",
         "sparse eyelashes",
         "For the first time in my life I had enough lashes to apply mascara to.  I had tried eyelash extensions which only broke off or pulled out what few thin lashes I did have.  Strip lashes were itchy and uncomfortable.  I now have normal lashes.\r\r\nEven though I only applied it to upper lashes the lower lashes have grown longer and thicker too.",
         "My upper eyelids were red and itchy for the first 4-5 weeks but that went away and I have not had a problem since.  My eye exams have been normal with eye preassure normal.",
         "For the first 6-8 weeks I used one drop every night applied to upper lash base with a small disposable brush.  After my lashes had grown in I started using it every 2-3 nights instead of every night and the lashes have stayed longer and thicker than prior to treating them."
        ],
        [
         "2643",
         "aldara",
         "4",
         "Considerably Effective",
         "Severe Side Effects",
         "skin cancer",
         "Aldara did seem to crust up my previous skin cancer area and help minimize my scar from MOHS surgery for skin cancer. Due to the side effects I could only tolerate for one week opposed to 6 week regiman.",
         "I felt an out of it feeling, like a depressed feeling, I was fatigued and I broke out with severe blisters on and around my lips.",
         "I used 1/4 of a packet(5% cream) on just my nose every other night and on alternating nights I put on an entire packet on my entire face."
        ],
        [
         "3692",
         "effexor-xr",
         "8",
         "Highly Effective",
         "No Side Effects",
         "anxiety",
         "reduction in anxiety, no panic attacks.  drug is extremely effective",
         "no side effects while on drug.  Super bad side effects while going off the drug.  Google searched it.  Lots of people with the same symptoms.  read up before you start it.",
         "took medication for 5 to 6 years.  Very hard to get off this drug.  I liked the way my anxiety was controlled, but it also inhibits all emotional response (at least in my case).  I didn't have any mood, emotion, nothing.  It gave me a very flat affect.  Also my doctor did not seem very informed toward drug side effects and withdrawl symptomologies."
        ],
        [
         "338",
         "neurontin",
         "6",
         "Moderately Effective",
         "No Side Effects",
         "nerve disorder",
         "I'm taking Gabapentin to treat nerve disorder. My nerves are inflamed and causes to experience pelvic pain and other pelvic disorders. The Gabapentin sometimes works but I do experience relapse.\r\r\n\r\r\nFor the migraines\r\r\nI find that the 800mg of Ibprofen works better with no side effect for my migraines, but the maxalt has a better track record.",
         "I have no side effect while taking Gabapentin but if I miss a couple of dosages or run out and wait for my next refill, I have moderate withdrawal syptoms. These syptoms include itchness, irrability, moodness, axiousness, and headaches.\r\r\n\r\r\nMaxalt side effect for  me is throat feels contristricted shortly after taking medicine.",
         "I take 600mg of Gabapentin three times day. It seems to be effective but I feel I need a hire dosage as the longer I take it the more I experience relapses.I first started out with 300mg three times a day but it was ineffective."
        ],
        [
         "3201",
         "omnicef",
         "1",
         "Marginally Effective",
         "Severe Side Effects",
         "sore throat ear infections",
         "don't know yet back to pediatrician today",
         "My one year old daughter who has an awesome disposition (and always has) became restless and agitated. Very touchy, aggressive, crying a lot, and having a hard time sleeping. Also refluxing a lot and not nursing normally. It just dawned on me this morning it must be the medication. Will request another antibiotic today from the pediatrician.",
         "Thanks"
        ],
        [
         "2566",
         "klonopin",
         "8",
         "Considerably Effective",
         "Mild Side Effects",
         "generalized anxiety disorder",
         "Very good at relieving anxiety.  Good at generally calming me down and 'leveling me out' to make functioning easier.  Helps a little to relax muscle tension.  Calming effect makes an excellent sleep aid.",
         "Fatigue can sometimes be excessive.  High dependency.",
         "Used for general anxiety and as an adjunct for depression and chronic pain.  Very good at alleviating any anxiety and jittery feelings.  'Levels out' my mood but doesn't cause euphoria; I have no desire to take more than I need.  However I am very dependent on it; if I stop taking it for a couple of days I have bad nervousness and jitteryness, tachycardia, sweating, and other anxiety symptoms.  If I wanted to discontinue I would have to do _very_ slowly, but this is the nature of long-term benzodiazepine treatment."
        ],
        [
         "723",
         "dovonex",
         "6",
         "Moderately Effective",
         "No Side Effects",
         "psoriasis",
         "Controlled the psoriasis, however did not reduce its presence.",
         "a \"halo\" a few shades lighter than the natural skin tone was present around the site of application, which would last about 12-24 hours.",
         "I found this time-consuming to apply 1-2 times daily.  Also, due to the \"halo\" effect, it was a little precarious to apply as well."
        ],
        [
         "305",
         "protopic",
         "8",
         "Highly Effective",
         "Moderate Side Effects",
         "ezcema",
         "cure the ezcema and it took aout teh roughest of the skin",
         "skin redness and flushes, sometimes the skin eels like it is on fire, and you feel very ho.\r\r\nIt is also very itchy when the skin is heeling because of the drug, sometimes you even wake up in the middle of the night because of the itchiness. But this only happens the first few days, when the skins is very bad with ezcema, after a few days, when the skin is better you don't feel you have put any treatment in the skin, and it feels as any othe normal moisturiser cream",
         "to apply once a day afeter cleaning the skin, and avoid direct sunlight"
        ],
        [
         "1084",
         "effexor",
         "9",
         "Considerably Effective",
         "Mild Side Effects",
         "panic attacks and depression",
         "reduction of panic attacks and depression to almost nil",
         "nausea for first two weeks then no perceived ill effects",
         "started on a low dose (25mg) and built up to 150mg over 3 months which was reduced to 75mg per day after six months. This dose continues today. A six month treatment break resulted in a return of the symptoms so treatment was resumed at 25mg up to 75mg after one month."
        ],
        [
         "1246",
         "sotret",
         "10",
         "Highly Effective",
         "Moderate Side Effects",
         "acne",
         "I took isotretinoin for persistent adult acne.  My skin was not by any means awful, but I did have evident pimples on my forehead and chin, and awful, awful blackheads on my nose that despite daily steaming and extraction, were terrible.  The drug totally cleared up my face, and my blackhead literally dried up in front of my eyes.  My once horribly oily skin changed to almost normal.",
         "First, let me say that I didn't experience the awful side effects that some do with isotretinoin use.  I did turn very, very red around the perioral area and especially at the nasolabial folds.  My face felt as if I needed to peel it off and scratch deep down in the dermis.  In fact, that was my main complaint--the itchiness . . . and of course the dryness.  But the dryness was not nearly as bad as I expected.  For example, my lips never cracked.  However, I'm several years out from treatment , and I still have dry skin problems.  It's weird because my skin was always so oily and now it's dry.  But that could be attributed to normal aging.  Regardless, I've become a real connosiour of facial moisturizers.  My skin is also a little more sensitive post isotretinoin.  Tazorac one percent, which I used to slather on nightly like lotion, now sets me on fire if I dare to use the half percent version more than twice a week.  I know the literature claims there's no anti-aging efficacy if it isn't used daily, but I'm hoping for the best.",
         "I have to confess that I'm confused by this section.  There were no real \"details\" associated with my treatment aside from what I've alreay described."
        ],
        [
         "1714",
         "retin-a-micro",
         "8",
         "Moderately Effective",
         "Moderate Side Effects",
         "anti-aging, acne",
         "The treatment benefits included Skin Regeneration, and decreased Acne.  My skin felt more smooth and the pigmentation was disapearing.  Overall, the goals were accomplished however the redness of the skin took over.",
         "The side effects of the treatment included Redness, Dryness, Skin Irritation.  The skin was very dry and difficult to moisturize.  The skin looked red and irritated.   However, when I switched to a lighter skin cleanser, Cetaphil, this really helped improve the redness and dryness.  Prior to the Cetaphil i was using Roc cleansing pads which were too harsh on my skin.",
         "My routine included Daily use of Micro Retin A pump.  I applied the Retin A Micro pump to my entire face at night after washing my face.  I used a moisturizer and sun screen in the morning."
        ],
        [
         "376",
         "lamotrigine",
         "9",
         "Considerably Effective",
         "Mild Side Effects",
         "epilpsy",
         "fits settled down to maybe 1 a fortnight which were daily before this medication",
         "has gained quite abit of weight but as he has had problems gaining weight since being a toddler this isnt a bad thing",
         "givn by specialist after previous medicine epilim caused serious side effects still messing with dosage in the hope of getting his fits down to 0 but so far a vast improvement in seizures"
        ],
        [
         "1571",
         "rebif",
         "6",
         "Considerably Effective",
         "Moderate Side Effects",
         "multiple sclerosis",
         "Reduce number of MS relapses",
         "Flu like symptoms- aches, fever",
         "subcutaneous injection 3x weekly"
        ],
        [
         "2436",
         "symbicort",
         "10",
         "Highly Effective",
         "No Side Effects",
         "asthma, emphysema",
         "I had taken Pulmicort, and other inhalants, with no major changes.  It became more difficult to maintain my exercise and lively life style. I gave in and began Symbicort and immediately experienced a relief of shortness of breath, weezing.  I feel like a new person. I still have a reaction to cold wind, and very high humidity, but so much better.  I rarely use my Albuterol.",
         "none",
         "I take one puff in the am, rinse my mouth and gargle.  I repeat the treatment in the evening before bed."
        ],
        [
         "3716",
         "lamictal",
         "8",
         "Considerably Effective",
         "Mild Side Effects",
         "bipolar disorder and depression",
         "I'm feeling more grounded; highs and lows are less extreme.  You could say that my emotional 'playing field' is more level.",
         "There's one 'side effect' - and I'm purposely and playfully/sarcastically placing it within quotes:  this stuff has increased my sex-drive manyfold! I don't know if this has been the case with other patients, and I'm curious to know if anyone else has had that experience.\r\r\nI'm also presenting with a little 'feathery tickle', resulting in an annoying dry cough; perhaps this side effect will lessen as my body adapts to the medication.",
         "My doctor started me on a minimal dose (25 mg) of Lamotrigine, and this will be prior to starting Interferon/Ribavarin treatment for the Hep-C I've got.  (An antidepressant may be added in the near future as well.) Lamotrigine was prescribed to put me in a calmer state of mind, specifically because of the high anxiety effect I receive from antidepressants, which resulted in 2 visits to an emergency room - as well as a one month hospital stay due to extreme anxiety and paranoia.\r\r\nSo far/so good is this layman's analysis."
        ],
        [
         "1959",
         "lyrica",
         "1",
         "Marginally Effective",
         "Severe Side Effects",
         "fibromyalgia, failed back syndrome",
         "It seemed to work at first, but then the side effects started. Fatigue, severe memory loss, poor decisions, urinary incontinence, personality changes (crabby, irritable, withdrawn). The hard part is I can't seem to get off this stuff!! The withdrawals are horrible, shakiness, feelings of doom, loss of appetite, nausea, palpitations. It scares me so much that I just start taking it again. I'm stuck!! Don't ever start this stuff, there is something wrong with it. I don't know if I will ever be myself again.",
         "see above",
         "Lyrica 150mg twice a day"
        ],
        [
         "1872",
         "doxycycline",
         "8",
         "Considerably Effective",
         "Mild Side Effects",
         "acne",
         "decrease in acne pustules",
         "photosensitivity",
         "Take medication twice a day in combination with good skin care"
        ],
        [
         "1038",
         "vyvanse",
         "8",
         "Considerably Effective",
         "Mild Side Effects",
         "adhd",
         "Alert, awake, focused",
         "dry mouth, decreased appetite",
         "I have only been on Vyvanse for 2 weeks.  I started at 40 mg. and now at 60 mg. until next week where I will probably be upped to 70 mg.  I used to take Focalin and then found out I was bipolar so had to stop that for close to a year to become stable on lithium.  I feel alert, awake and focused and feel Vyvanse is very smooth and lasts longer.  Hope I get the weight loss benefits eventually."
        ],
        [
         "2745",
         "actonel",
         "7",
         "Marginally Effective",
         "Mild Side Effects",
         "osteoporosis",
         "My  bone density's results have always been stable and I was told to continue with the drug.",
         "leg cramps during the night.",
         "Eight years ago I started with Fosamax for 3-4 years and then took Actonel.\r\r\nIn March, I decided not to take Actonel any longer.   I had been on it for too long and was fearful of esophageal cancer and bone breakage.  Now my doctor wants me to take the Prolia injections, which I am not going to do. I am not going to continue with any drugs.   My bone density recently done was in the minuses.  I do work with a personal trainer and execise daily.  I am searching for alternative ways to deal with this problem."
        ],
        [
         "1268",
         "provigil",
         "7",
         "Moderately Effective",
         "Mild Side Effects",
         "fatigue",
         "I was more alert during the first part of the day but I found that it wore off by the afternoon. I could focus clearly, and if I needed a boost during the day another dose was enough.",
         "It may cause some nervousness or restlessness. Sometimes I felt like I had drank a large cup of coffee during its full potency.",
         "I took modafinil for cronic fatigue and general drousiness. I found it to be moderatly effective. \r\r\n\r\r\nIn the morning after I would take a dose the effects were noticeble and even pronounced, however after about lunchtime it totally wore off and I would have to take another dose, but if the second pill is taken later in the day it sometimes would interfere with sleep so one must be carful to take the pill at the right time."
        ],
        [
         "797",
         "ambien",
         "8",
         "Considerably Effective",
         "Mild Side Effects",
         "insomnia",
         "Sleeping 7-8 hours without hangover",
         "Memory loss",
         "It is a GODSEND. Fully rested in the am and feel like a new person. I am convinced it has kept me from sliding into a full depression. It works on 3 levels for me: 1. My body gets rest so I can 'fight' for another day. 2. My brain heals. 3. I can endure a difficult day knowing I can take the pill and go to sleep. I consider it a miracle cure for preventing a full blown depression. Wish I had it available to me years ago...could have changed my life. I would recommend to anyone in for a good experience while getting to sleep!"
        ],
        [
         "2801",
         "wellbutrin",
         "10",
         "Highly Effective",
         "Mild Side Effects",
         "depression",
         "I have taken antidepressants for many years, and this is first that did not \"flip the switch\" on sexuality.  I no longer feel like I am looking out of a dark room.  I have more energy, feel more motivated, and overall function at a higher level than before.",
         "A little bit of \"hyper\" feelings.  I take the entire dose at one time, daily, and have been advised that the feeling of being revved up would disspiate if I did take it in two or more doses during the day.  I try to minimize the effect by taking the medication first thing in the morning.",
         "I suffer chronic depression and the Wellbutrin is the first antidepressant that did not sedate me, and the only that did not dampen sexual feelings.  I have taken tricyclics (sp?) which were extremely sedating as well as limiting as far as OTC medications and dietary restrictions.  I have also tried SSRIs (prozac, zoloft, etc.)and while they temporarily relieved my depression, 1) the effect did not last more than 6 months, and 2) they completely destroyed my libido."
        ],
        [
         "2360",
         "propecia",
         "8",
         "Moderately Effective",
         "Mild Side Effects",
         "male pattern baldness",
         "Ostensibly this will halt or even reverse the effects of male-pattern baldness. So far, one month in, there is not a great deal to report. I expected my hair loss to temporarily increase, as I had read in the literature that as dormant hair follicles reactivate, they push dead hairs out in order to form new ones. In other word, hair in a dead follicle will linger for a few months, and reactivation of the follicle will push out the old hair to make room for the new. So far, this has not occurred. The product must be taken for up to two years for any noticeable hair growth to take place, so I really haven't been on it long enough to judge its re-growth potential. In terms of halting the process, however, I must say there are fewer hairs in my brush each morning, so it's possible the drug is having an effect already. I will post a fuller report in another forty-seven months, I suppose.",
         "I was surprised to experience brief blinding headaches in the upper left rear quadrant of my head, like a mini seconds-long burst of pressure that felt like a blunt object suddenly trying to explode out of my skull. This pressure would subside and I would go about my day. I'm told headaches are not one of the usual side-effects, so it may be an unrelated fluke. However, I've never had such an experience before, and it only manifested within about forty-eight hours of my first taking the drug and for seventy-two hours thereafter. The sudden and sporadic bursts of acute pain subsided, however, but I would caution anyone taking this drug for the first time to be on the lookout, especially if driving or in a public place with bright lights and a lot of noise around.",
         "Overall, whether I am having some sort of placebo-effect reaction or not, my subjective impression is that hair loss has slowed or stopped and that the hair remaining appears fuller. I presented my symptoms to the doctor and she issued a prescription that same day, which I filled that afternoon at a local pharmacy and began taking immediately. The formulation I was prescribed was 1 milligram, although I believe the usual prescription is for 2 milligrams and can go as high as 5 milligrams. My case was mild to begin with, so it may be difficult to judge results. However, other than the mild side-effects I described above, which subsided within three days, I must say overall that my experience has been a positive one."
        ],
        [
         "630",
         "nortriptyline",
         "3",
         "Moderately Effective",
         "Severe Side Effects",
         "a typical migraines",
         "I have A-typical migraines which gives me weird sensation in my ears such as roaring and the sense that they are vibrating.  I also do have headacheds that seem to come from ears and the back of my neck.  It help me feel better and started to decrease my symptoms but side effects were worse than original symptoms.  It helped me to ignore my symptoms and helped me to get through the day.",
         "ringing in the ears, sensitivity to noise, phantom noise in head, which all lead to anxiety",
         "stopped medicine, looking for something else to help."
        ],
        [
         "422",
         "imitrex",
         "10",
         "Highly Effective",
         "Mild Side Effects",
         "migraine headaches",
         "migraine headache would stop",
         "dizzy, palpitations",
         "I have taken both the shots and the pills (separately) and they both worked well.  I would need to take the pills before getting sick to stomach, because if after, I could not keep pills down.  The shot worked regardless of when I took it."
        ],
        [
         "330",
         "ativan",
         "9",
         "Considerably Effective",
         "No Side Effects",
         "anxiety",
         "Assists with getting to sleep and due to longer half life than other anxiolytics(ie Alprazolam)anxiety is less upon waking. Whilst Alprazolam is extrememly effective for immediate reduction in arousal, I find Lorazepam more effective for overall lowering of anxiety.It has been especially helpful to start the day with little or no anxiety rather than with a high arousal level immediately needing management or medication.",
         "As with all Benzodiazepines withdrawl is very noticeable if undertaken quickly. Lightheadedness, anxiety, dizzy spells, general feeling unwell.\r\r\nIn my experience the suggested half life in relation to reducing intake of these drugs is very misleading. Reduction for me has to be done very slowly over a number of weeks not days as usually suggested by physicians.",
         "Taken for anxiety,initially in an acute stage. This was followed by a decision by patient (myself) to continue for 3 months in order to reduce arousal levels whilst undertaking therapy using the theraputic model ACT."
        ],
        [
         "1899",
         "doxycycline",
         "10",
         "Highly Effective",
         "No Side Effects",
         "severe peridontal disease",
         "I had   persistent periodontal problems, both stressful and painful.  Every dentist I saw  told me I was going to lose my teeth.  This drug  cleared up the condition.  It protected me against inflammation for the entire period of time that I took it.  I continued taking the drug much longer than is usually recommended because it was so effective. The effectiveness did not seem to diminish.",
         "None.",
         "A dentist in my dental HMO prescribed it and was willing to continue to do so because I implored him to do so."
        ],
        [
         "1210",
         "prozac",
         "7",
         "Considerably Effective",
         "Mild Side Effects",
         "depression",
         "relieves depression, helps other things such as sleep, dieting, exercise, relationships, responses to stimulous.  The cost is lower than other antidepressants which can be a help to those on a budget.",
         "Sleepy and lack of response to problems.  Took too long to get started.  I think anyone else would think it wasn't effective and stop taking it.",
         "took a seemingly long period of time to become effective.  Once started, however, it did what I expected.  It is hard to be without now and think that it will be a problem stopping in the future."
        ],
        [
         "1762",
         "topamax",
         "6",
         "Highly Effective",
         "Mild Side Effects",
         "seizures,migraines,fibro.",
         "To stop with the migraines, seizures and pain from the fibromyalgia,also have neuropathy in hands and feet from diabetes",
         "alittle weight loss but I was thin already the worst thing was Hair loss for me and the feeling of pins and needles in the feet got worse, the Dr increased my dose from 200mgs t0 300 mgs af ter four years because I had a few seizures ,and after only two to three weeks I had so many side affects ,I had not had in all of the four years that I had been taken the 200 mgs my hair came out,blurry vision,dehydration forgetfulness,you name it I had not delt with this before only read about this except for the hair and I have always had lots of it so you know how upset I was.. needless to say Istopped taking the extra 100mgs and went back to my old dosage with hopes tha everything will goe back to where it was ,trying to get in touch with the Dr. as I type now... Does anyone know if the side affects will goe away?",
         "take two 100 mgs tablets in am when I was given the increase I was told to take two 100 mgs tablets in the am and 1 in the evening before bed"
        ],
        [
         "1534",
         "levitra",
         "10",
         "Highly Effective",
         "No Side Effects",
         "ed",
         "The stuff works like a charm--fast and effective.",
         null,
         "One pill 30 mins. before activity"
        ],
        [
         "3060",
         "oxycodone",
         "7",
         "Considerably Effective",
         "Mild Side Effects",
         "possible lymphoma/kidney pain",
         "The drug was pretty good for pain. They had me on morphine, which was horrible. The pain was preferable to the crazy dreams and paranoia I had. They then tried oxycontin, which was the best pain drug they gave me, but too addictive... so they moved me to vicodin products, which worked pretty well, with surprisingly few side effects.",
         "Sleepiness, dizziness, light-headedness & nausea. I only took them when the pain was unbearable, so I might have gotten used to the side effects if I had kept the levels up in my system.",
         "I just took the pills every 4-6 hours when the kidney pain was too bad. I tried to only take them at night as the conditions improved since they made me sleep. I stopped takeing them long before the infections and colon problems were resolved, as I don't like takeing drugs."
        ],
        [
         "3728",
         "lamictal",
         "8",
         "Highly Effective",
         "No Side Effects",
         "seizure disorder",
         "Effective at controlling seizures without dizziness",
         "There were no side effects",
         "I took Dilantin for decades.  My doctor moved me to Trileptal; it was not 100% effective and caused dizziness, plus it was very expensive.  Lamictal controls my seizures, although I still get headaches (auras).  I would like to be completely free of these headaches, but this is still better than previous medications."
        ],
        [
         "1804",
         "oxycontin",
         "7",
         "Considerably Effective",
         "Mild Side Effects",
         "post surgical pain",
         "Able to tolerate the pain",
         "Loss of appetite, dizzy",
         "Following a nasal reconstruction and bone graft to \r\r\nmy nasal bridge pain relief was prescribed.  My nose \r\r\nwas crushed in an accident.\r\r\nI did not think that it would be necessary, however\r\r\nthe procedure turned out to be extremely painful for\r\r\nseveral days. The pain medication allowed me to tolerate the pain, however it made it impossible for me to function normally. All I could do was sleep and remain in a haze until the pain diminished"
        ],
        [
         "1989",
         "vicodin",
         "8",
         "Considerably Effective",
         "Mild Side Effects",
         "broken collarbone",
         "very effective pain killer",
         "constipation",
         "take the pills for pain"
        ],
        [
         "714",
         "accutane",
         "9",
         "Highly Effective",
         "Moderate Side Effects",
         "acne",
         "Eventually Cleared my moderate acne. Had recieved antibiotics etc previosly which reduced it from severe to moderate, but then accutane completely cleared my skin after 5 months",
         "Hair loss! Not so much from my head, but other places such as arms etc. Dry lips were the worst, tried many different products but eventually carmex solved that. Dry skin slightly, not too much of a probelem. Depression was bad, would have no motivation to do anything and hated everything around me. After stopping the drug this discontinued and i deem it acceptable to have, for the results of clear skin.",
         "I can't remember ever having the initial flare ups/breakouts other people have reported. I was warned about this by my dermatologist but i can't say i remember it. I noticed no difference in the first few months and became very frustrated at this. It was only towards the end of the fourth month that it started to become noticablly clearer with only a few spots. By the end of the fifth month i was clear, and remained clear for a year. However the oilyness of my skin has returned and i would now class my skin as having mild acne, but it only affects the areas around my nose, unlike before where i had it all over my cheeks. If you notice any spots return, contact your derm to be put on a second course of accutane as i am, otherwise it can return more serverly and undo all the progress you have previously made."
        ],
        [
         "1290",
         "zocor",
         "10",
         "Highly Effective",
         "Mild Side Effects",
         "high cholestoral",
         "Brought down my overall cholestorol reading from 218 to 150, LDL from 135 to 90 and triglycerides from 180 to 140 within 3 months time.",
         "I had soreness of muscles for the first several weeks which finally went away.",
         "I started on the medication 3yrs ago and still take it today with continued good results and no side effects."
        ],
        [
         "2646",
         "aldara",
         "10",
         "Considerably Effective",
         "No Side Effects",
         "basal cell carcinoma",
         "The cream made the basal cell carcinoma and actinic keratoses react, scab up, and heal to nice smooth skin after about two weeks after treatment with the cream ended.",
         "I had no side effects.  Some people think the ulcerated scabby areas are side effects, but this is what the cream is designed to do, make bad cells react and destruct.",
         "The cream is applied at bedtime for five nights a week for Basal Cell Carcinoma.  Three night per week for actinic keratosis.  You do this for eight weeks in a row.  By the end of eight weeks, the bad cells react gradually as scabby spots.  This is how you know the medicine is working.  You put the cream on the spots your doctor tells you to, with about an inch margin all around it."
        ]
       ],
       "shape": {
        "columns": 8,
        "rows": 3107
       }
      },
      "text/html": [
       "<div>\n",
       "<style scoped>\n",
       "    .dataframe tbody tr th:only-of-type {\n",
       "        vertical-align: middle;\n",
       "    }\n",
       "\n",
       "    .dataframe tbody tr th {\n",
       "        vertical-align: top;\n",
       "    }\n",
       "\n",
       "    .dataframe thead th {\n",
       "        text-align: right;\n",
       "    }\n",
       "</style>\n",
       "<table border=\"1\" class=\"dataframe\">\n",
       "  <thead>\n",
       "    <tr style=\"text-align: right;\">\n",
       "      <th></th>\n",
       "      <th>urlDrugName</th>\n",
       "      <th>rating</th>\n",
       "      <th>effectiveness</th>\n",
       "      <th>sideEffects</th>\n",
       "      <th>condition</th>\n",
       "      <th>benefitsReview</th>\n",
       "      <th>sideEffectsReview</th>\n",
       "      <th>commentsReview</th>\n",
       "    </tr>\n",
       "  </thead>\n",
       "  <tbody>\n",
       "    <tr>\n",
       "      <th>2202</th>\n",
       "      <td>enalapril</td>\n",
       "      <td>4</td>\n",
       "      <td>Highly Effective</td>\n",
       "      <td>Mild Side Effects</td>\n",
       "      <td>management of congestive heart failure</td>\n",
       "      <td>slowed the progression of left ventricular dys...</td>\n",
       "      <td>cough, hypotension , proteinuria, impotence , ...</td>\n",
       "      <td>monitor blood pressure , weight and asses for ...</td>\n",
       "    </tr>\n",
       "    <tr>\n",
       "      <th>3117</th>\n",
       "      <td>ortho-tri-cyclen</td>\n",
       "      <td>1</td>\n",
       "      <td>Highly Effective</td>\n",
       "      <td>Severe Side Effects</td>\n",
       "      <td>birth prevention</td>\n",
       "      <td>Although this type of birth control has more c...</td>\n",
       "      <td>Heavy Cycle, Cramps, Hot Flashes, Fatigue, Lon...</td>\n",
       "      <td>I Hate This Birth Control, I Would Not Suggest...</td>\n",
       "    </tr>\n",
       "    <tr>\n",
       "      <th>1146</th>\n",
       "      <td>ponstel</td>\n",
       "      <td>10</td>\n",
       "      <td>Highly Effective</td>\n",
       "      <td>No Side Effects</td>\n",
       "      <td>menstrual cramps</td>\n",
       "      <td>I was used to having cramps so badly that they...</td>\n",
       "      <td>Heavier bleeding and clotting than normal.</td>\n",
       "      <td>I took 2 pills at the onset of my menstrual cr...</td>\n",
       "    </tr>\n",
       "    <tr>\n",
       "      <th>3947</th>\n",
       "      <td>prilosec</td>\n",
       "      <td>3</td>\n",
       "      <td>Marginally Effective</td>\n",
       "      <td>Mild Side Effects</td>\n",
       "      <td>acid reflux</td>\n",
       "      <td>The acid reflux went away for a few months aft...</td>\n",
       "      <td>Constipation, dry mouth and some mild dizzines...</td>\n",
       "      <td>I was given Prilosec prescription at a dose of...</td>\n",
       "    </tr>\n",
       "    <tr>\n",
       "      <th>1951</th>\n",
       "      <td>lyrica</td>\n",
       "      <td>2</td>\n",
       "      <td>Marginally Effective</td>\n",
       "      <td>Severe Side Effects</td>\n",
       "      <td>fibromyalgia</td>\n",
       "      <td>I think that the Lyrica was starting to help w...</td>\n",
       "      <td>I felt extremely drugged and dopey.  Could not...</td>\n",
       "      <td>See above</td>\n",
       "    </tr>\n",
       "    <tr>\n",
       "      <th>...</th>\n",
       "      <td>...</td>\n",
       "      <td>...</td>\n",
       "      <td>...</td>\n",
       "      <td>...</td>\n",
       "      <td>...</td>\n",
       "      <td>...</td>\n",
       "      <td>...</td>\n",
       "      <td>...</td>\n",
       "    </tr>\n",
       "    <tr>\n",
       "      <th>1039</th>\n",
       "      <td>vyvanse</td>\n",
       "      <td>10</td>\n",
       "      <td>Highly Effective</td>\n",
       "      <td>Mild Side Effects</td>\n",
       "      <td>adhd</td>\n",
       "      <td>Increased focus, attention, productivity. Bett...</td>\n",
       "      <td>Restless legs at night, insomnia, headache (so...</td>\n",
       "      <td>I took adderall once as a child, and it made m...</td>\n",
       "    </tr>\n",
       "    <tr>\n",
       "      <th>3281</th>\n",
       "      <td>zoloft</td>\n",
       "      <td>1</td>\n",
       "      <td>Ineffective</td>\n",
       "      <td>Extremely Severe Side Effects</td>\n",
       "      <td>depression</td>\n",
       "      <td>Emotions were somewhat blunted. Less moodiness.</td>\n",
       "      <td>Weight gain, extreme tiredness during the day,...</td>\n",
       "      <td>I was on Zoloft for about 2 years total. I am ...</td>\n",
       "    </tr>\n",
       "    <tr>\n",
       "      <th>1664</th>\n",
       "      <td>climara</td>\n",
       "      <td>2</td>\n",
       "      <td>Marginally Effective</td>\n",
       "      <td>Moderate Side Effects</td>\n",
       "      <td>total hysterctomy</td>\n",
       "      <td>---</td>\n",
       "      <td>Constant issues with the patch not staying on....</td>\n",
       "      <td>---</td>\n",
       "    </tr>\n",
       "    <tr>\n",
       "      <th>2621</th>\n",
       "      <td>trileptal</td>\n",
       "      <td>8</td>\n",
       "      <td>Considerably Effective</td>\n",
       "      <td>Mild Side Effects</td>\n",
       "      <td>epilepsy</td>\n",
       "      <td>Controlled complex partial seizures.</td>\n",
       "      <td>Dizziness, fatigue, nausea</td>\n",
       "      <td>Started at 2 doses of 300 mg a day and worked ...</td>\n",
       "    </tr>\n",
       "    <tr>\n",
       "      <th>2748</th>\n",
       "      <td>micardis</td>\n",
       "      <td>4</td>\n",
       "      <td>Moderately Effective</td>\n",
       "      <td>Moderate Side Effects</td>\n",
       "      <td>high blood pressure</td>\n",
       "      <td>The drug Micardis did seem to alleviate my hig...</td>\n",
       "      <td>I find when I am taking Micardis that I tend t...</td>\n",
       "      <td>I take Micardis in pill form once daily.</td>\n",
       "    </tr>\n",
       "  </tbody>\n",
       "</table>\n",
       "<p>3107 rows × 8 columns</p>\n",
       "</div>"
      ],
      "text/plain": [
       "           urlDrugName  rating           effectiveness  \\\n",
       "2202         enalapril       4        Highly Effective   \n",
       "3117  ortho-tri-cyclen       1        Highly Effective   \n",
       "1146           ponstel      10        Highly Effective   \n",
       "3947          prilosec       3    Marginally Effective   \n",
       "1951            lyrica       2    Marginally Effective   \n",
       "...                ...     ...                     ...   \n",
       "1039           vyvanse      10        Highly Effective   \n",
       "3281            zoloft       1             Ineffective   \n",
       "1664           climara       2    Marginally Effective   \n",
       "2621         trileptal       8  Considerably Effective   \n",
       "2748          micardis       4    Moderately Effective   \n",
       "\n",
       "                        sideEffects                               condition  \\\n",
       "2202              Mild Side Effects  management of congestive heart failure   \n",
       "3117            Severe Side Effects                        birth prevention   \n",
       "1146                No Side Effects                        menstrual cramps   \n",
       "3947              Mild Side Effects                             acid reflux   \n",
       "1951            Severe Side Effects                            fibromyalgia   \n",
       "...                             ...                                     ...   \n",
       "1039              Mild Side Effects                                    adhd   \n",
       "3281  Extremely Severe Side Effects                              depression   \n",
       "1664          Moderate Side Effects                       total hysterctomy   \n",
       "2621              Mild Side Effects                                epilepsy   \n",
       "2748          Moderate Side Effects                     high blood pressure   \n",
       "\n",
       "                                         benefitsReview  \\\n",
       "2202  slowed the progression of left ventricular dys...   \n",
       "3117  Although this type of birth control has more c...   \n",
       "1146  I was used to having cramps so badly that they...   \n",
       "3947  The acid reflux went away for a few months aft...   \n",
       "1951  I think that the Lyrica was starting to help w...   \n",
       "...                                                 ...   \n",
       "1039  Increased focus, attention, productivity. Bett...   \n",
       "3281    Emotions were somewhat blunted. Less moodiness.   \n",
       "1664                                                ---   \n",
       "2621               Controlled complex partial seizures.   \n",
       "2748  The drug Micardis did seem to alleviate my hig...   \n",
       "\n",
       "                                      sideEffectsReview  \\\n",
       "2202  cough, hypotension , proteinuria, impotence , ...   \n",
       "3117  Heavy Cycle, Cramps, Hot Flashes, Fatigue, Lon...   \n",
       "1146         Heavier bleeding and clotting than normal.   \n",
       "3947  Constipation, dry mouth and some mild dizzines...   \n",
       "1951  I felt extremely drugged and dopey.  Could not...   \n",
       "...                                                 ...   \n",
       "1039  Restless legs at night, insomnia, headache (so...   \n",
       "3281  Weight gain, extreme tiredness during the day,...   \n",
       "1664  Constant issues with the patch not staying on....   \n",
       "2621                         Dizziness, fatigue, nausea   \n",
       "2748  I find when I am taking Micardis that I tend t...   \n",
       "\n",
       "                                         commentsReview  \n",
       "2202  monitor blood pressure , weight and asses for ...  \n",
       "3117  I Hate This Birth Control, I Would Not Suggest...  \n",
       "1146  I took 2 pills at the onset of my menstrual cr...  \n",
       "3947  I was given Prilosec prescription at a dose of...  \n",
       "1951                                          See above  \n",
       "...                                                 ...  \n",
       "1039  I took adderall once as a child, and it made m...  \n",
       "3281  I was on Zoloft for about 2 years total. I am ...  \n",
       "1664                                                ---  \n",
       "2621  Started at 2 doses of 300 mg a day and worked ...  \n",
       "2748           I take Micardis in pill form once daily.  \n",
       "\n",
       "[3107 rows x 8 columns]"
      ]
     },
     "execution_count": 2,
     "metadata": {},
     "output_type": "execute_result"
    }
   ],
   "source": [
    "df = pd.read_csv('data/drugLibTrain_raw.tsv', sep=\"\\t\", index_col=0)\n",
    "df"
   ]
  },
  {
   "cell_type": "code",
   "execution_count": 3,
   "metadata": {},
   "outputs": [
    {
     "name": "stdout",
     "output_type": "stream",
     "text": [
      "<class 'pandas.core.frame.DataFrame'>\n",
      "Index: 3107 entries, 2202 to 2748\n",
      "Data columns (total 8 columns):\n",
      " #   Column             Non-Null Count  Dtype \n",
      "---  ------             --------------  ----- \n",
      " 0   urlDrugName        3107 non-null   object\n",
      " 1   rating             3107 non-null   int64 \n",
      " 2   effectiveness      3107 non-null   object\n",
      " 3   sideEffects        3107 non-null   object\n",
      " 4   condition          3106 non-null   object\n",
      " 5   benefitsReview     3089 non-null   object\n",
      " 6   sideEffectsReview  3032 non-null   object\n",
      " 7   commentsReview     3095 non-null   object\n",
      "dtypes: int64(1), object(7)\n",
      "memory usage: 218.5+ KB\n"
     ]
    }
   ],
   "source": [
    "df.info()"
   ]
  },
  {
   "attachments": {},
   "cell_type": "markdown",
   "metadata": {
    "colab_type": "text",
    "id": "OhaWDPt-8ZlT"
   },
   "source": [
    "### Descriptive Analysis"
   ]
  },
  {
   "attachments": {},
   "cell_type": "markdown",
   "metadata": {},
   "source": [
    "Quedate únicamente con las columnas que podamos manejar: Columnas numéricas y columnas categóricas con pocas categorías (menos de 10)"
   ]
  },
  {
   "cell_type": "code",
   "execution_count": 9,
   "metadata": {},
   "outputs": [],
   "source": [
    "df.drop([\"urlDrugName\", \"condition\", \"benefitsReview\", \"sideEffectsReview\", \"commentsReview\"], inplace=True, axis=1)"
   ]
  },
  {
   "cell_type": "code",
   "execution_count": 10,
   "metadata": {},
   "outputs": [
    {
     "data": {
      "application/vnd.microsoft.datawrangler.viewer.v0+json": {
       "columns": [
        {
         "name": "index",
         "rawType": "int64",
         "type": "integer"
        },
        {
         "name": "rating",
         "rawType": "int64",
         "type": "integer"
        },
        {
         "name": "effectiveness",
         "rawType": "object",
         "type": "string"
        },
        {
         "name": "sideEffects",
         "rawType": "object",
         "type": "string"
        }
       ],
       "conversionMethod": "pd.DataFrame",
       "ref": "154e00f4-b530-48ff-9301-3ed229d1b147",
       "rows": [
        [
         "2202",
         "4",
         "Highly Effective",
         "Mild Side Effects"
        ],
        [
         "3117",
         "1",
         "Highly Effective",
         "Severe Side Effects"
        ],
        [
         "1146",
         "10",
         "Highly Effective",
         "No Side Effects"
        ],
        [
         "3947",
         "3",
         "Marginally Effective",
         "Mild Side Effects"
        ],
        [
         "1951",
         "2",
         "Marginally Effective",
         "Severe Side Effects"
        ],
        [
         "2372",
         "1",
         "Ineffective",
         "Severe Side Effects"
        ],
        [
         "1043",
         "9",
         "Highly Effective",
         "Mild Side Effects"
        ],
        [
         "2715",
         "10",
         "Considerably Effective",
         "No Side Effects"
        ],
        [
         "1591",
         "10",
         "Highly Effective",
         "No Side Effects"
        ],
        [
         "1686",
         "1",
         "Ineffective",
         "Extremely Severe Side Effects"
        ],
        [
         "458",
         "7",
         "Considerably Effective",
         "Moderate Side Effects"
        ],
        [
         "3479",
         "8",
         "Highly Effective",
         "Moderate Side Effects"
        ],
        [
         "959",
         "8",
         "Considerably Effective",
         "Mild Side Effects"
        ],
        [
         "928",
         "9",
         "Considerably Effective",
         "Mild Side Effects"
        ],
        [
         "2643",
         "4",
         "Considerably Effective",
         "Severe Side Effects"
        ],
        [
         "3692",
         "8",
         "Highly Effective",
         "No Side Effects"
        ],
        [
         "338",
         "6",
         "Moderately Effective",
         "No Side Effects"
        ],
        [
         "3201",
         "1",
         "Marginally Effective",
         "Severe Side Effects"
        ],
        [
         "2566",
         "8",
         "Considerably Effective",
         "Mild Side Effects"
        ],
        [
         "723",
         "6",
         "Moderately Effective",
         "No Side Effects"
        ],
        [
         "305",
         "8",
         "Highly Effective",
         "Moderate Side Effects"
        ],
        [
         "1084",
         "9",
         "Considerably Effective",
         "Mild Side Effects"
        ],
        [
         "1246",
         "10",
         "Highly Effective",
         "Moderate Side Effects"
        ],
        [
         "1714",
         "8",
         "Moderately Effective",
         "Moderate Side Effects"
        ],
        [
         "376",
         "9",
         "Considerably Effective",
         "Mild Side Effects"
        ],
        [
         "1571",
         "6",
         "Considerably Effective",
         "Moderate Side Effects"
        ],
        [
         "2436",
         "10",
         "Highly Effective",
         "No Side Effects"
        ],
        [
         "3716",
         "8",
         "Considerably Effective",
         "Mild Side Effects"
        ],
        [
         "1959",
         "1",
         "Marginally Effective",
         "Severe Side Effects"
        ],
        [
         "1872",
         "8",
         "Considerably Effective",
         "Mild Side Effects"
        ],
        [
         "1038",
         "8",
         "Considerably Effective",
         "Mild Side Effects"
        ],
        [
         "2745",
         "7",
         "Marginally Effective",
         "Mild Side Effects"
        ],
        [
         "1268",
         "7",
         "Moderately Effective",
         "Mild Side Effects"
        ],
        [
         "797",
         "8",
         "Considerably Effective",
         "Mild Side Effects"
        ],
        [
         "2801",
         "10",
         "Highly Effective",
         "Mild Side Effects"
        ],
        [
         "2360",
         "8",
         "Moderately Effective",
         "Mild Side Effects"
        ],
        [
         "630",
         "3",
         "Moderately Effective",
         "Severe Side Effects"
        ],
        [
         "422",
         "10",
         "Highly Effective",
         "Mild Side Effects"
        ],
        [
         "330",
         "9",
         "Considerably Effective",
         "No Side Effects"
        ],
        [
         "1899",
         "10",
         "Highly Effective",
         "No Side Effects"
        ],
        [
         "1210",
         "7",
         "Considerably Effective",
         "Mild Side Effects"
        ],
        [
         "1762",
         "6",
         "Highly Effective",
         "Mild Side Effects"
        ],
        [
         "1534",
         "10",
         "Highly Effective",
         "No Side Effects"
        ],
        [
         "3060",
         "7",
         "Considerably Effective",
         "Mild Side Effects"
        ],
        [
         "3728",
         "8",
         "Highly Effective",
         "No Side Effects"
        ],
        [
         "1804",
         "7",
         "Considerably Effective",
         "Mild Side Effects"
        ],
        [
         "1989",
         "8",
         "Considerably Effective",
         "Mild Side Effects"
        ],
        [
         "714",
         "9",
         "Highly Effective",
         "Moderate Side Effects"
        ],
        [
         "1290",
         "10",
         "Highly Effective",
         "Mild Side Effects"
        ],
        [
         "2646",
         "10",
         "Considerably Effective",
         "No Side Effects"
        ]
       ],
       "shape": {
        "columns": 3,
        "rows": 3107
       }
      },
      "text/html": [
       "<div>\n",
       "<style scoped>\n",
       "    .dataframe tbody tr th:only-of-type {\n",
       "        vertical-align: middle;\n",
       "    }\n",
       "\n",
       "    .dataframe tbody tr th {\n",
       "        vertical-align: top;\n",
       "    }\n",
       "\n",
       "    .dataframe thead th {\n",
       "        text-align: right;\n",
       "    }\n",
       "</style>\n",
       "<table border=\"1\" class=\"dataframe\">\n",
       "  <thead>\n",
       "    <tr style=\"text-align: right;\">\n",
       "      <th></th>\n",
       "      <th>rating</th>\n",
       "      <th>effectiveness</th>\n",
       "      <th>sideEffects</th>\n",
       "    </tr>\n",
       "  </thead>\n",
       "  <tbody>\n",
       "    <tr>\n",
       "      <th>2202</th>\n",
       "      <td>4</td>\n",
       "      <td>Highly Effective</td>\n",
       "      <td>Mild Side Effects</td>\n",
       "    </tr>\n",
       "    <tr>\n",
       "      <th>3117</th>\n",
       "      <td>1</td>\n",
       "      <td>Highly Effective</td>\n",
       "      <td>Severe Side Effects</td>\n",
       "    </tr>\n",
       "    <tr>\n",
       "      <th>1146</th>\n",
       "      <td>10</td>\n",
       "      <td>Highly Effective</td>\n",
       "      <td>No Side Effects</td>\n",
       "    </tr>\n",
       "    <tr>\n",
       "      <th>3947</th>\n",
       "      <td>3</td>\n",
       "      <td>Marginally Effective</td>\n",
       "      <td>Mild Side Effects</td>\n",
       "    </tr>\n",
       "    <tr>\n",
       "      <th>1951</th>\n",
       "      <td>2</td>\n",
       "      <td>Marginally Effective</td>\n",
       "      <td>Severe Side Effects</td>\n",
       "    </tr>\n",
       "    <tr>\n",
       "      <th>...</th>\n",
       "      <td>...</td>\n",
       "      <td>...</td>\n",
       "      <td>...</td>\n",
       "    </tr>\n",
       "    <tr>\n",
       "      <th>1039</th>\n",
       "      <td>10</td>\n",
       "      <td>Highly Effective</td>\n",
       "      <td>Mild Side Effects</td>\n",
       "    </tr>\n",
       "    <tr>\n",
       "      <th>3281</th>\n",
       "      <td>1</td>\n",
       "      <td>Ineffective</td>\n",
       "      <td>Extremely Severe Side Effects</td>\n",
       "    </tr>\n",
       "    <tr>\n",
       "      <th>1664</th>\n",
       "      <td>2</td>\n",
       "      <td>Marginally Effective</td>\n",
       "      <td>Moderate Side Effects</td>\n",
       "    </tr>\n",
       "    <tr>\n",
       "      <th>2621</th>\n",
       "      <td>8</td>\n",
       "      <td>Considerably Effective</td>\n",
       "      <td>Mild Side Effects</td>\n",
       "    </tr>\n",
       "    <tr>\n",
       "      <th>2748</th>\n",
       "      <td>4</td>\n",
       "      <td>Moderately Effective</td>\n",
       "      <td>Moderate Side Effects</td>\n",
       "    </tr>\n",
       "  </tbody>\n",
       "</table>\n",
       "<p>3107 rows × 3 columns</p>\n",
       "</div>"
      ],
      "text/plain": [
       "      rating           effectiveness                    sideEffects\n",
       "2202       4        Highly Effective              Mild Side Effects\n",
       "3117       1        Highly Effective            Severe Side Effects\n",
       "1146      10        Highly Effective                No Side Effects\n",
       "3947       3    Marginally Effective              Mild Side Effects\n",
       "1951       2    Marginally Effective            Severe Side Effects\n",
       "...      ...                     ...                            ...\n",
       "1039      10        Highly Effective              Mild Side Effects\n",
       "3281       1             Ineffective  Extremely Severe Side Effects\n",
       "1664       2    Marginally Effective          Moderate Side Effects\n",
       "2621       8  Considerably Effective              Mild Side Effects\n",
       "2748       4    Moderately Effective          Moderate Side Effects\n",
       "\n",
       "[3107 rows x 3 columns]"
      ]
     },
     "execution_count": 10,
     "metadata": {},
     "output_type": "execute_result"
    }
   ],
   "source": [
    "df"
   ]
  },
  {
   "attachments": {},
   "cell_type": "markdown",
   "metadata": {},
   "source": [
    "#### Transforma las columnas categóricas\n",
    "\n",
    "Transforma las columnas categoricas a numericas mediante dummies"
   ]
  },
  {
   "cell_type": "code",
   "execution_count": 12,
   "metadata": {},
   "outputs": [
    {
     "data": {
      "application/vnd.microsoft.datawrangler.viewer.v0+json": {
       "columns": [
        {
         "name": "index",
         "rawType": "int64",
         "type": "integer"
        },
        {
         "name": "effectiveness",
         "rawType": "object",
         "type": "string"
        },
        {
         "name": "effectiveness_encoded",
         "rawType": "int64",
         "type": "integer"
        },
        {
         "name": "sideEffects",
         "rawType": "object",
         "type": "string"
        },
        {
         "name": "sideEffects_encoded",
         "rawType": "int64",
         "type": "integer"
        }
       ],
       "conversionMethod": "pd.DataFrame",
       "ref": "ded1110d-c0a3-4ab7-b7e2-1d8b3841329c",
       "rows": [
        [
         "2202",
         "Highly Effective",
         "1",
         "Mild Side Effects",
         "1"
        ],
        [
         "3117",
         "Highly Effective",
         "1",
         "Severe Side Effects",
         "4"
        ],
        [
         "1146",
         "Highly Effective",
         "1",
         "No Side Effects",
         "3"
        ],
        [
         "3947",
         "Marginally Effective",
         "3",
         "Mild Side Effects",
         "1"
        ],
        [
         "1951",
         "Marginally Effective",
         "3",
         "Severe Side Effects",
         "4"
        ],
        [
         "2372",
         "Ineffective",
         "2",
         "Severe Side Effects",
         "4"
        ],
        [
         "1043",
         "Highly Effective",
         "1",
         "Mild Side Effects",
         "1"
        ],
        [
         "2715",
         "Considerably Effective",
         "0",
         "No Side Effects",
         "3"
        ],
        [
         "1591",
         "Highly Effective",
         "1",
         "No Side Effects",
         "3"
        ],
        [
         "1686",
         "Ineffective",
         "2",
         "Extremely Severe Side Effects",
         "0"
        ],
        [
         "458",
         "Considerably Effective",
         "0",
         "Moderate Side Effects",
         "2"
        ],
        [
         "3479",
         "Highly Effective",
         "1",
         "Moderate Side Effects",
         "2"
        ],
        [
         "959",
         "Considerably Effective",
         "0",
         "Mild Side Effects",
         "1"
        ],
        [
         "928",
         "Considerably Effective",
         "0",
         "Mild Side Effects",
         "1"
        ],
        [
         "2643",
         "Considerably Effective",
         "0",
         "Severe Side Effects",
         "4"
        ],
        [
         "3692",
         "Highly Effective",
         "1",
         "No Side Effects",
         "3"
        ],
        [
         "338",
         "Moderately Effective",
         "4",
         "No Side Effects",
         "3"
        ],
        [
         "3201",
         "Marginally Effective",
         "3",
         "Severe Side Effects",
         "4"
        ],
        [
         "2566",
         "Considerably Effective",
         "0",
         "Mild Side Effects",
         "1"
        ],
        [
         "723",
         "Moderately Effective",
         "4",
         "No Side Effects",
         "3"
        ],
        [
         "305",
         "Highly Effective",
         "1",
         "Moderate Side Effects",
         "2"
        ],
        [
         "1084",
         "Considerably Effective",
         "0",
         "Mild Side Effects",
         "1"
        ],
        [
         "1246",
         "Highly Effective",
         "1",
         "Moderate Side Effects",
         "2"
        ],
        [
         "1714",
         "Moderately Effective",
         "4",
         "Moderate Side Effects",
         "2"
        ],
        [
         "376",
         "Considerably Effective",
         "0",
         "Mild Side Effects",
         "1"
        ],
        [
         "1571",
         "Considerably Effective",
         "0",
         "Moderate Side Effects",
         "2"
        ],
        [
         "2436",
         "Highly Effective",
         "1",
         "No Side Effects",
         "3"
        ],
        [
         "3716",
         "Considerably Effective",
         "0",
         "Mild Side Effects",
         "1"
        ],
        [
         "1959",
         "Marginally Effective",
         "3",
         "Severe Side Effects",
         "4"
        ],
        [
         "1872",
         "Considerably Effective",
         "0",
         "Mild Side Effects",
         "1"
        ],
        [
         "1038",
         "Considerably Effective",
         "0",
         "Mild Side Effects",
         "1"
        ],
        [
         "2745",
         "Marginally Effective",
         "3",
         "Mild Side Effects",
         "1"
        ],
        [
         "1268",
         "Moderately Effective",
         "4",
         "Mild Side Effects",
         "1"
        ],
        [
         "797",
         "Considerably Effective",
         "0",
         "Mild Side Effects",
         "1"
        ],
        [
         "2801",
         "Highly Effective",
         "1",
         "Mild Side Effects",
         "1"
        ],
        [
         "2360",
         "Moderately Effective",
         "4",
         "Mild Side Effects",
         "1"
        ],
        [
         "630",
         "Moderately Effective",
         "4",
         "Severe Side Effects",
         "4"
        ],
        [
         "422",
         "Highly Effective",
         "1",
         "Mild Side Effects",
         "1"
        ],
        [
         "330",
         "Considerably Effective",
         "0",
         "No Side Effects",
         "3"
        ],
        [
         "1899",
         "Highly Effective",
         "1",
         "No Side Effects",
         "3"
        ],
        [
         "1210",
         "Considerably Effective",
         "0",
         "Mild Side Effects",
         "1"
        ],
        [
         "1762",
         "Highly Effective",
         "1",
         "Mild Side Effects",
         "1"
        ],
        [
         "1534",
         "Highly Effective",
         "1",
         "No Side Effects",
         "3"
        ],
        [
         "3060",
         "Considerably Effective",
         "0",
         "Mild Side Effects",
         "1"
        ],
        [
         "3728",
         "Highly Effective",
         "1",
         "No Side Effects",
         "3"
        ],
        [
         "1804",
         "Considerably Effective",
         "0",
         "Mild Side Effects",
         "1"
        ],
        [
         "1989",
         "Considerably Effective",
         "0",
         "Mild Side Effects",
         "1"
        ],
        [
         "714",
         "Highly Effective",
         "1",
         "Moderate Side Effects",
         "2"
        ],
        [
         "1290",
         "Highly Effective",
         "1",
         "Mild Side Effects",
         "1"
        ],
        [
         "2646",
         "Considerably Effective",
         "0",
         "No Side Effects",
         "3"
        ]
       ],
       "shape": {
        "columns": 4,
        "rows": 3107
       }
      },
      "text/html": [
       "<div>\n",
       "<style scoped>\n",
       "    .dataframe tbody tr th:only-of-type {\n",
       "        vertical-align: middle;\n",
       "    }\n",
       "\n",
       "    .dataframe tbody tr th {\n",
       "        vertical-align: top;\n",
       "    }\n",
       "\n",
       "    .dataframe thead th {\n",
       "        text-align: right;\n",
       "    }\n",
       "</style>\n",
       "<table border=\"1\" class=\"dataframe\">\n",
       "  <thead>\n",
       "    <tr style=\"text-align: right;\">\n",
       "      <th></th>\n",
       "      <th>effectiveness</th>\n",
       "      <th>effectiveness_encoded</th>\n",
       "      <th>sideEffects</th>\n",
       "      <th>sideEffects_encoded</th>\n",
       "    </tr>\n",
       "  </thead>\n",
       "  <tbody>\n",
       "    <tr>\n",
       "      <th>2202</th>\n",
       "      <td>Highly Effective</td>\n",
       "      <td>1</td>\n",
       "      <td>Mild Side Effects</td>\n",
       "      <td>1</td>\n",
       "    </tr>\n",
       "    <tr>\n",
       "      <th>3117</th>\n",
       "      <td>Highly Effective</td>\n",
       "      <td>1</td>\n",
       "      <td>Severe Side Effects</td>\n",
       "      <td>4</td>\n",
       "    </tr>\n",
       "    <tr>\n",
       "      <th>1146</th>\n",
       "      <td>Highly Effective</td>\n",
       "      <td>1</td>\n",
       "      <td>No Side Effects</td>\n",
       "      <td>3</td>\n",
       "    </tr>\n",
       "    <tr>\n",
       "      <th>3947</th>\n",
       "      <td>Marginally Effective</td>\n",
       "      <td>3</td>\n",
       "      <td>Mild Side Effects</td>\n",
       "      <td>1</td>\n",
       "    </tr>\n",
       "    <tr>\n",
       "      <th>1951</th>\n",
       "      <td>Marginally Effective</td>\n",
       "      <td>3</td>\n",
       "      <td>Severe Side Effects</td>\n",
       "      <td>4</td>\n",
       "    </tr>\n",
       "    <tr>\n",
       "      <th>...</th>\n",
       "      <td>...</td>\n",
       "      <td>...</td>\n",
       "      <td>...</td>\n",
       "      <td>...</td>\n",
       "    </tr>\n",
       "    <tr>\n",
       "      <th>1039</th>\n",
       "      <td>Highly Effective</td>\n",
       "      <td>1</td>\n",
       "      <td>Mild Side Effects</td>\n",
       "      <td>1</td>\n",
       "    </tr>\n",
       "    <tr>\n",
       "      <th>3281</th>\n",
       "      <td>Ineffective</td>\n",
       "      <td>2</td>\n",
       "      <td>Extremely Severe Side Effects</td>\n",
       "      <td>0</td>\n",
       "    </tr>\n",
       "    <tr>\n",
       "      <th>1664</th>\n",
       "      <td>Marginally Effective</td>\n",
       "      <td>3</td>\n",
       "      <td>Moderate Side Effects</td>\n",
       "      <td>2</td>\n",
       "    </tr>\n",
       "    <tr>\n",
       "      <th>2621</th>\n",
       "      <td>Considerably Effective</td>\n",
       "      <td>0</td>\n",
       "      <td>Mild Side Effects</td>\n",
       "      <td>1</td>\n",
       "    </tr>\n",
       "    <tr>\n",
       "      <th>2748</th>\n",
       "      <td>Moderately Effective</td>\n",
       "      <td>4</td>\n",
       "      <td>Moderate Side Effects</td>\n",
       "      <td>2</td>\n",
       "    </tr>\n",
       "  </tbody>\n",
       "</table>\n",
       "<p>3107 rows × 4 columns</p>\n",
       "</div>"
      ],
      "text/plain": [
       "               effectiveness  effectiveness_encoded  \\\n",
       "2202        Highly Effective                      1   \n",
       "3117        Highly Effective                      1   \n",
       "1146        Highly Effective                      1   \n",
       "3947    Marginally Effective                      3   \n",
       "1951    Marginally Effective                      3   \n",
       "...                      ...                    ...   \n",
       "1039        Highly Effective                      1   \n",
       "3281             Ineffective                      2   \n",
       "1664    Marginally Effective                      3   \n",
       "2621  Considerably Effective                      0   \n",
       "2748    Moderately Effective                      4   \n",
       "\n",
       "                        sideEffects  sideEffects_encoded  \n",
       "2202              Mild Side Effects                    1  \n",
       "3117            Severe Side Effects                    4  \n",
       "1146                No Side Effects                    3  \n",
       "3947              Mild Side Effects                    1  \n",
       "1951            Severe Side Effects                    4  \n",
       "...                             ...                  ...  \n",
       "1039              Mild Side Effects                    1  \n",
       "3281  Extremely Severe Side Effects                    0  \n",
       "1664          Moderate Side Effects                    2  \n",
       "2621              Mild Side Effects                    1  \n",
       "2748          Moderate Side Effects                    2  \n",
       "\n",
       "[3107 rows x 4 columns]"
      ]
     },
     "execution_count": 12,
     "metadata": {},
     "output_type": "execute_result"
    }
   ],
   "source": [
    "from sklearn.preprocessing import LabelEncoder\n",
    "\n",
    "# Creamos codificadores\n",
    "le_effectiveness = LabelEncoder()\n",
    "le_sideEffects = LabelEncoder()\n",
    "\n",
    "# Codificamos\n",
    "df['effectiveness_encoded'] = le_effectiveness.fit_transform(df['effectiveness'])\n",
    "df['sideEffects_encoded'] = le_sideEffects.fit_transform(df['sideEffects'])\n",
    "\n",
    "# Revisamos\n",
    "df[['effectiveness', 'effectiveness_encoded', 'sideEffects', 'sideEffects_encoded']]\n"
   ]
  },
  {
   "cell_type": "code",
   "execution_count": null,
   "metadata": {},
   "outputs": [
    {
     "name": "stdout",
     "output_type": "stream",
     "text": [
      "Effectiveness values: ['Highly Effective' 'Marginally Effective' 'Ineffective'\n",
      " 'Considerably Effective' 'Moderately Effective']\n",
      "\n",
      "SideEffects values: ['Mild Side Effects' 'Severe Side Effects' 'No Side Effects'\n",
      " 'Extremely Severe Side Effects' 'Moderate Side Effects']\n"
     ]
    }
   ],
   "source": [
    "# Vemos los valores unicos\n",
    "\n",
    "print(\"Effectiveness values:\", df['effectiveness'].unique())\n",
    "print()\n",
    "print(\"SideEffects values:\", df['sideEffects'].unique())\n"
   ]
  },
  {
   "cell_type": "code",
   "execution_count": 16,
   "metadata": {},
   "outputs": [
    {
     "data": {
      "application/vnd.microsoft.datawrangler.viewer.v0+json": {
       "columns": [
        {
         "name": "index",
         "rawType": "int64",
         "type": "integer"
        },
        {
         "name": "effectiveness",
         "rawType": "object",
         "type": "string"
        },
        {
         "name": "effectiveness_encoded",
         "rawType": "int64",
         "type": "integer"
        },
        {
         "name": "sideEffects",
         "rawType": "object",
         "type": "string"
        },
        {
         "name": "sideEffects_encoded",
         "rawType": "int64",
         "type": "integer"
        }
       ],
       "conversionMethod": "pd.DataFrame",
       "ref": "f50eff14-0e54-4975-9f09-a9c627709361",
       "rows": [
        [
         "2202",
         "Highly Effective",
         "4",
         "Mild Side Effects",
         "1"
        ],
        [
         "3117",
         "Highly Effective",
         "4",
         "Severe Side Effects",
         "3"
        ],
        [
         "1146",
         "Highly Effective",
         "4",
         "No Side Effects",
         "0"
        ],
        [
         "3947",
         "Marginally Effective",
         "1",
         "Mild Side Effects",
         "1"
        ],
        [
         "1951",
         "Marginally Effective",
         "1",
         "Severe Side Effects",
         "3"
        ]
       ],
       "shape": {
        "columns": 4,
        "rows": 5
       }
      },
      "text/html": [
       "<div>\n",
       "<style scoped>\n",
       "    .dataframe tbody tr th:only-of-type {\n",
       "        vertical-align: middle;\n",
       "    }\n",
       "\n",
       "    .dataframe tbody tr th {\n",
       "        vertical-align: top;\n",
       "    }\n",
       "\n",
       "    .dataframe thead th {\n",
       "        text-align: right;\n",
       "    }\n",
       "</style>\n",
       "<table border=\"1\" class=\"dataframe\">\n",
       "  <thead>\n",
       "    <tr style=\"text-align: right;\">\n",
       "      <th></th>\n",
       "      <th>effectiveness</th>\n",
       "      <th>effectiveness_encoded</th>\n",
       "      <th>sideEffects</th>\n",
       "      <th>sideEffects_encoded</th>\n",
       "    </tr>\n",
       "  </thead>\n",
       "  <tbody>\n",
       "    <tr>\n",
       "      <th>2202</th>\n",
       "      <td>Highly Effective</td>\n",
       "      <td>4</td>\n",
       "      <td>Mild Side Effects</td>\n",
       "      <td>1</td>\n",
       "    </tr>\n",
       "    <tr>\n",
       "      <th>3117</th>\n",
       "      <td>Highly Effective</td>\n",
       "      <td>4</td>\n",
       "      <td>Severe Side Effects</td>\n",
       "      <td>3</td>\n",
       "    </tr>\n",
       "    <tr>\n",
       "      <th>1146</th>\n",
       "      <td>Highly Effective</td>\n",
       "      <td>4</td>\n",
       "      <td>No Side Effects</td>\n",
       "      <td>0</td>\n",
       "    </tr>\n",
       "    <tr>\n",
       "      <th>3947</th>\n",
       "      <td>Marginally Effective</td>\n",
       "      <td>1</td>\n",
       "      <td>Mild Side Effects</td>\n",
       "      <td>1</td>\n",
       "    </tr>\n",
       "    <tr>\n",
       "      <th>1951</th>\n",
       "      <td>Marginally Effective</td>\n",
       "      <td>1</td>\n",
       "      <td>Severe Side Effects</td>\n",
       "      <td>3</td>\n",
       "    </tr>\n",
       "  </tbody>\n",
       "</table>\n",
       "</div>"
      ],
      "text/plain": [
       "             effectiveness  effectiveness_encoded          sideEffects  \\\n",
       "2202      Highly Effective                      4    Mild Side Effects   \n",
       "3117      Highly Effective                      4  Severe Side Effects   \n",
       "1146      Highly Effective                      4      No Side Effects   \n",
       "3947  Marginally Effective                      1    Mild Side Effects   \n",
       "1951  Marginally Effective                      1  Severe Side Effects   \n",
       "\n",
       "      sideEffects_encoded  \n",
       "2202                    1  \n",
       "3117                    3  \n",
       "1146                    0  \n",
       "3947                    1  \n",
       "1951                    3  "
      ]
     },
     "execution_count": 16,
     "metadata": {},
     "output_type": "execute_result"
    }
   ],
   "source": [
    "# Mapeo manual de effectiveness\n",
    "effectiveness_map = {\n",
    "    'Ineffective': 0,\n",
    "    'Marginally Effective': 1,\n",
    "    'Moderately Effective': 2,\n",
    "    'Considerably Effective': 3,\n",
    "    'Highly Effective': 4\n",
    "}\n",
    "\n",
    "# Mapeo manual de sideEffects\n",
    "sideEffects_map = {\n",
    "    'No Side Effects': 0,\n",
    "    'Mild Side Effects': 1,\n",
    "    'Moderate Side Effects': 2,\n",
    "    'Severe Side Effects': 3,\n",
    "    'Extremely Severe Side Effects': 4\n",
    "}\n",
    "\n",
    "# Aplicamos el mapeo\n",
    "df['effectiveness_encoded'] = df['effectiveness'].map(effectiveness_map)\n",
    "df['sideEffects_encoded'] = df['sideEffects'].map(sideEffects_map)\n",
    "\n",
    "# Revisamos\n",
    "df[['effectiveness', 'effectiveness_encoded', 'sideEffects', 'sideEffects_encoded']].head()\n"
   ]
  },
  {
   "cell_type": "code",
   "execution_count": 17,
   "metadata": {},
   "outputs": [],
   "source": [
    "df_clustering = df[['rating', 'effectiveness_encoded', 'sideEffects_encoded']]\n"
   ]
  },
  {
   "attachments": {},
   "cell_type": "markdown",
   "metadata": {
    "colab_type": "text",
    "id": "HtBmwGdNnUGf"
   },
   "source": [
    "#### Evalua cual es la mejor K\n",
    "\n",
    "Utiliza silhouette_score para evaluar cual es la mejor K."
   ]
  },
  {
   "cell_type": "code",
   "execution_count": 18,
   "metadata": {},
   "outputs": [
    {
     "name": "stdout",
     "output_type": "stream",
     "text": [
      "[[-1.02349444  0.86510788 -0.25889536]\n",
      " [-2.04490682  0.86510788  1.43991746]\n",
      " [ 1.01933033  0.86510788 -1.10830176]\n",
      " [-1.36396523 -1.57325636 -0.25889536]\n",
      " [-1.70443603 -1.57325636  1.43991746]]\n"
     ]
    }
   ],
   "source": [
    "from sklearn.preprocessing import StandardScaler\n",
    "\n",
    "# Creamos el scaler\n",
    "scaler = StandardScaler()\n",
    "\n",
    "# Ajustamos y transformamos\n",
    "X_scaled = scaler.fit_transform(df_clustering)\n",
    "\n",
    "# Revisamos\n",
    "print(X_scaled[:5])\n"
   ]
  },
  {
   "attachments": {},
   "cell_type": "markdown",
   "metadata": {},
   "source": [
    "#### Genera el K Means "
   ]
  },
  {
   "cell_type": "code",
   "execution_count": 56,
   "metadata": {},
   "outputs": [
    {
     "name": "stdout",
     "output_type": "stream",
     "text": [
      "Silhouette Score para n_clusters=2: 0.5239895385002081\n",
      "Silhouette Score para n_clusters=3: 0.4054898470714643\n",
      "Silhouette Score para n_clusters=4: 0.37275044705746624\n",
      "Silhouette Score para n_clusters=5: 0.4021226450674886\n",
      "Silhouette Score para n_clusters=6: 0.39664310228465116\n",
      "Silhouette Score para n_clusters=7: 0.4175644874930821\n",
      "Silhouette Score para n_clusters=8: 0.433644999051634\n",
      "Silhouette Score para n_clusters=9: 0.4871878589147554\n",
      "Silhouette Score para n_clusters=10: 0.515589572746421\n",
      "Silhouette Score para n_clusters=11: 0.5277979042248157\n",
      "Silhouette Score para n_clusters=12: 0.5338880245286387\n",
      "Silhouette Score para n_clusters=13: 0.5302678332611578\n",
      "Silhouette Score para n_clusters=14: 0.5399997505424641\n",
      "Silhouette Score para n_clusters=15: 0.5428676263488224\n",
      "Silhouette Score para n_clusters=16: 0.5469381578740338\n",
      "Silhouette Score para n_clusters=17: 0.5554144179330832\n",
      "Silhouette Score para n_clusters=18: 0.5499201262325591\n",
      "Silhouette Score para n_clusters=19: 0.5559956325691472\n",
      "Silhouette Score para n_clusters=20: 0.568595074864595\n",
      "Silhouette Score para n_clusters=21: 0.5747358342326205\n",
      "Silhouette Score para n_clusters=22: 0.5845535496328329\n",
      "Silhouette Score para n_clusters=23: 0.5871642620724603\n",
      "Silhouette Score para n_clusters=24: 0.5895185514834433\n"
     ]
    }
   ],
   "source": [
    "from sklearn.cluster import KMeans\n",
    "from sklearn.metrics import silhouette_score\n",
    "\n",
    "kmeans_per_k = {}\n",
    "for k in range(2, 25):\n",
    "    kmeans = KMeans(n_clusters=k, random_state=42)\n",
    "    labels = kmeans.fit_predict(X_scaled)\n",
    "    score = silhouette_score(X_scaled, labels)\n",
    "    print(f\"Silhouette Score para n_clusters={k}: {score}\")\n",
    "    kmeans_per_k[k]=score\n"
   ]
  },
  {
   "cell_type": "code",
   "execution_count": 42,
   "metadata": {},
   "outputs": [
    {
     "data": {
      "text/plain": [
       "{2: np.float64(0.5239895385002081),\n",
       " 3: np.float64(0.4054898470714643),\n",
       " 4: np.float64(0.37275044705746624),\n",
       " 5: np.float64(0.4021226450674886),\n",
       " 6: np.float64(0.39664310228465116),\n",
       " 7: np.float64(0.4175644874930821),\n",
       " 8: np.float64(0.433644999051634),\n",
       " 9: np.float64(0.4871878589147554),\n",
       " 10: np.float64(0.515589572746421),\n",
       " 11: np.float64(0.5277979042248157),\n",
       " 12: np.float64(0.5338880245286387),\n",
       " 13: np.float64(0.5302678332611578),\n",
       " 14: np.float64(0.5399997505424641),\n",
       " 15: np.float64(0.5428676263488224),\n",
       " 16: np.float64(0.5469381578740338),\n",
       " 17: np.float64(0.5554144179330832),\n",
       " 18: np.float64(0.5499201262325591),\n",
       " 19: np.float64(0.5559956325691472),\n",
       " 20: np.float64(0.568595074864595),\n",
       " 21: np.float64(0.5747358342326205),\n",
       " 22: np.float64(0.5845535496328329),\n",
       " 23: np.float64(0.5871642620724603),\n",
       " 24: np.float64(0.5895185514834433)}"
      ]
     },
     "execution_count": 42,
     "metadata": {},
     "output_type": "execute_result"
    }
   ],
   "source": [
    "kmeans_per_k"
   ]
  },
  {
   "cell_type": "code",
   "execution_count": 54,
   "metadata": {},
   "outputs": [
    {
     "data": {
      "image/png": "[encoded data removed]",
      "text/plain": [
       "<Figure size 800x300 with 1 Axes>"
      ]
     },
     "metadata": {},
     "output_type": "display_data"
    }
   ],
   "source": [
    "plt.figure(figsize=(8, 3))\n",
    "plt.plot(range(2, 25), kmeans_per_k.values(), \"bo-\")\n",
    "plt.xlabel(\"$k$\", fontsize=14)\n",
    "plt.ylabel(\"Silhouette score\", fontsize=14)\n",
    "plt.show()\n"
   ]
  },
  {
   "cell_type": "code",
   "execution_count": 57,
   "metadata": {},
   "outputs": [
    {
     "name": "stdout",
     "output_type": "stream",
     "text": [
      "\n",
      "Resultados para n_clusters=2:\n",
      "Silhouette Score: 0.5239895385002081\n",
      "Tamaño de cada cluster:\n",
      "cluster_2\n",
      "0    2224\n",
      "1     883\n",
      "Name: count, dtype: int64\n",
      "Medias por cluster:\n",
      "             rating  effectiveness_encoded  sideEffects_encoded\n",
      "cluster_2                                                      \n",
      "0          8.586331               3.475270             0.820594\n",
      "1          3.026048               1.576444             2.524349\n",
      "\n",
      "Resultados para n_clusters=10:\n",
      "Silhouette Score: 0.515589572746421\n",
      "Tamaño de cada cluster:\n",
      "cluster_10\n",
      "5    527\n",
      "8    471\n",
      "4    374\n",
      "0    337\n",
      "7    312\n",
      "2    257\n",
      "9    230\n",
      "6    220\n",
      "3    204\n",
      "1    175\n",
      "Name: count, dtype: int64\n",
      "Medias por cluster:\n",
      "              rating  effectiveness_encoded  sideEffects_encoded\n",
      "cluster_10                                                      \n",
      "0           7.952522               3.753709             2.201780\n",
      "1           2.514286               0.474286             1.251429\n",
      "2           8.525292               2.988327             0.000000\n",
      "3           1.965686               3.004902             3.303922\n",
      "4           7.994652               3.013369             1.000000\n",
      "5           9.721063               4.000000             0.000000\n",
      "6           1.545455               0.313636             3.418182\n",
      "7           5.724359               2.493590             2.224359\n",
      "8           9.276008               4.000000             1.000000\n",
      "9           6.295652               1.852174             0.556522\n",
      "\n",
      "Resultados para n_clusters=12:\n",
      "Silhouette Score: 0.5302668442421855\n",
      "Tamaño de cada cluster:\n",
      "cluster_12\n",
      "5     527\n",
      "1     471\n",
      "7     374\n",
      "9     257\n",
      "3     245\n",
      "6     244\n",
      "0     225\n",
      "4     195\n",
      "8     178\n",
      "11    159\n",
      "2     143\n",
      "10     89\n",
      "Name: count, dtype: int64\n",
      "Medias por cluster:\n",
      "              rating  effectiveness_encoded  sideEffects_encoded\n",
      "cluster_12                                                      \n",
      "0           6.355556               1.880000             0.568889\n",
      "1           9.276008               4.000000             1.000000\n",
      "2           2.055944               1.510490             3.279720\n",
      "3           7.175510               2.824490             2.163265\n",
      "4           1.374359               0.000000             3.158974\n",
      "5           9.721063               4.000000             0.000000\n",
      "6           8.016393               4.000000             2.213115\n",
      "7           7.994652               3.013369             1.000000\n",
      "8           2.567416               3.426966             3.140449\n",
      "9           8.525292               2.988327             0.000000\n",
      "10          2.483146               0.449438             0.449438\n",
      "11          4.471698               1.742138             2.056604\n"
     ]
    }
   ],
   "source": [
    "# Lista de Ks elegidas\n",
    "ks = [2, 10, 12]\n",
    "\n",
    "for k in ks:\n",
    "    kmeans = KMeans(n_clusters=k, n_init=10, random_state=42)\n",
    "    labels = kmeans.fit_predict(X_scaled)\n",
    "    \n",
    "    # Añadimos columna temporal de clusters\n",
    "    df[f'cluster_{k}'] = labels\n",
    "    \n",
    "    # Calculamos silhouette\n",
    "    score = silhouette_score(X_scaled, labels)\n",
    "    print(f\"\\nResultados para n_clusters={k}:\")\n",
    "    print(f\"Silhouette Score: {score}\")\n",
    "    \n",
    "    # Conteo de elementos por cluster\n",
    "    print(\"Tamaño de cada cluster:\")\n",
    "    print(df[f'cluster_{k}'].value_counts())\n",
    "\n",
    "    # Medias de las variables por cluster\n",
    "    print(\"Medias por cluster:\")\n",
    "    print(df.groupby(f'cluster_{k}')[['rating', 'effectiveness_encoded', 'sideEffects_encoded']].mean())"
   ]
  },
  {
   "cell_type": "code",
   "execution_count": 58,
   "metadata": {},
   "outputs": [
    {
     "name": "stdout",
     "output_type": "stream",
     "text": [
      "Shape reducido: (3107, 2)\n"
     ]
    }
   ],
   "source": [
    "from sklearn.decomposition import PCA\n",
    "\n",
    "# Reducimos a 2D\n",
    "pca = PCA(n_components=2)\n",
    "X_pca = pca.fit_transform(X_scaled)\n",
    "\n",
    "print(\"Shape reducido:\", X_pca.shape)\n"
   ]
  },
  {
   "cell_type": "code",
   "execution_count": 59,
   "metadata": {},
   "outputs": [],
   "source": [
    "def plot_clusters(X_pca, n_clusters):\n",
    "    kmeans = KMeans(n_clusters=n_clusters, n_init=10, random_state=42)\n",
    "    kmeans.fit(X_pca)\n",
    "    \n",
    "    # Predicciones\n",
    "    y_kmeans = kmeans.predict(X_pca)\n",
    "    \n",
    "    # Grid para fronteras\n",
    "    x_min, x_max = X_pca[:, 0].min() - 1, X_pca[:, 0].max() + 1\n",
    "    y_min, y_max = X_pca[:, 1].min() - 1, X_pca[:, 1].max() + 1\n",
    "    xx, yy = np.meshgrid(np.arange(x_min, x_max, 0.01),\n",
    "                         np.arange(y_min, y_max, 0.01))\n",
    "    \n",
    "    Z = kmeans.predict(np.c_[xx.ravel(), yy.ravel()])\n",
    "    Z = Z.reshape(xx.shape)\n",
    "\n",
    "    # Plot de fronteras\n",
    "    plt.figure(figsize=(10, 6))\n",
    "    plt.contourf(xx, yy, Z, alpha=0.3)\n",
    "\n",
    "    # Puntos\n",
    "    plt.scatter(X_pca[:, 0], X_pca[:, 1], c=y_kmeans, s=20, cmap='tab10')\n",
    "    \n",
    "    # Centroides\n",
    "    plt.scatter(kmeans.cluster_centers_[:, 0], kmeans.cluster_centers_[:, 1], \n",
    "                s=300, c='black', marker='x')\n",
    "    \n",
    "    plt.title(f\"K-Means con n_clusters={n_clusters}\")\n",
    "    plt.xlabel(\"Componente Principal 1\")\n",
    "    plt.ylabel(\"Componente Principal 2\")\n",
    "    plt.show()\n"
   ]
  },
  {
   "cell_type": "code",
   "execution_count": 60,
   "metadata": {},
   "outputs": [
    {
     "data": {
      "image/png": "[encoded data removed]",
      "text/plain": [
       "<Figure size 1000x600 with 1 Axes>"
      ]
     },
     "metadata": {},
     "output_type": "display_data"
    },
    {
     "data": {
      "image/png": "[encoded data removed]",
      "text/plain": [
       "<Figure size 1000x600 with 1 Axes>"
      ]
     },
     "metadata": {},
     "output_type": "display_data"
    },
    {
     "data": {
      "image/png": "[encoded data removed]",
      "text/plain": [
       "<Figure size 1000x600 with 1 Axes>"
      ]
     },
     "metadata": {},
     "output_type": "display_data"
    }
   ],
   "source": [
    "for k in [2, 10, 12]:\n",
    "    plot_clusters(X_pca, k)\n"
   ]
  },
  {
   "cell_type": "markdown",
   "metadata": {},
   "source": [
    "## Conclusiones:\n",
    "\n",
    "Si solo queremos diferenciar opiniones “buenas vs malas” -> usaremos \"k=2\".\n",
    "\n",
    "Si queremos agrupar más tipos de opiniones (efectivas, no efectivas, con o sin efectos secundarios…) -> usaremos k=10.\n",
    "\n",
    "No recomendaría k=+15 salvo que necesites muchísimo detalle. Creo que hay Overfitting"
   ]
  }
 ],
 "metadata": {
  "colab": {
   "collapsed_sections": [],
   "name": "kmeans-user-clustering.ipynb",
   "provenance": []
  },
  "kernelspec": {
   "display_name": "Python 3",
   "language": "python",
   "name": "python3"
  },
  "language_info": {
   "codemirror_mode": {
    "name": "ipython",
    "version": 3
   },
   "file_extension": ".py",
   "mimetype": "text/x-python",
   "name": "python",
   "nbconvert_exporter": "python",
   "pygments_lexer": "ipython3",
   "version": "3.11.9"
  },
  "nbTranslate": {
   "displayLangs": [
    "*"
   ],
   "hotkey": "alt-t",
   "langInMainMenu": true,
   "sourceLang": "en",
   "targetLang": "fr",
   "useGoogleTranslate": true
  },
  "varInspector": {
   "cols": {
    "lenName": 16,
    "lenType": 16,
    "lenVar": 40
   },
   "kernels_config": {
    "python": {
     "delete_cmd_postfix": "",
     "delete_cmd_prefix": "del ",
     "library": "var_list.py",
     "varRefreshCmd": "print(var_dic_list())"
    },
    "r": {
     "delete_cmd_postfix": ") ",
     "delete_cmd_prefix": "rm(",
     "library": "var_list.r",
     "varRefreshCmd": "cat(var_dic_list()) "
    }
   },
   "types_to_exclude": [
    "module",
    "function",
    "builtin_function_or_method",
    "instance",
    "_Feature"
   ],
   "window_display": false
  }
 },
 "nbformat": 4,
 "nbformat_minor": 4
}
