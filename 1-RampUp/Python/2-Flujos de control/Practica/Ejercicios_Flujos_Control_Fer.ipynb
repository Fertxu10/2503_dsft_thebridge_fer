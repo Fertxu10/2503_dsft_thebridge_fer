{
 "cells": [
  {
   "cell_type": "markdown",
   "metadata": {},
   "source": [
    "![imagen](./img/ejercicios.png)"
   ]
  },
  {
   "cell_type": "markdown",
   "metadata": {},
   "source": [
    "# Ejercicios Flujos de control"
   ]
  },
  {
   "cell_type": "markdown",
   "metadata": {},
   "source": [
    "## Ejercicio 1\n",
    "Declara una variable numérica que será una hora cualquiera del día. Implementa la siguiente casuística:\n",
    "\n",
    "* Si es entre las 0 y las 8, print \"Durmiendo\"\n",
    "* Si es entre las 9 y las 18, print \"Trabajando\"\n",
    "* Si es entre las 19 y las 21, print \"Clase\"\n",
    "* Si es entre las 22 y las 24, print \"Descanso\"\n",
    "* En cualquier otro caso, print \"Transporte o error\""
   ]
  },
  {
   "cell_type": "code",
   "execution_count": null,
   "metadata": {},
   "outputs": [],
   "source": [
    "horas_dia = float(input(\"Introduzca la hora\"))\n",
    "if horas_dia >= 0 and horas_dia <= 8:\n",
    "    print(\"Durmiendo\")\n",
    "elif horas_dia >= 9 and horas_dia <= 18:\n",
    "    print(\"Trabajando\")\n",
    "elif horas_dia >= 19 and horas_dia <= 21:\n",
    "    print(\"Clase\")\n",
    "elif horas_dia >= 22 and horas_dia <=24:\n",
    "    print(\"Descanso\")\n",
    "else:\n",
    "    print(\"Error\")\n",
    "\n"
   ]
  },
  {
   "cell_type": "code",
   "execution_count": null,
   "metadata": {},
   "outputs": [],
   "source": []
  },
  {
   "cell_type": "markdown",
   "metadata": {},
   "source": [
    "## Ejercicio 2\n",
    "En este ejercicio vamos a implementar un calculador de precios de casas muy sencillo. Tenemos las siguientes variables:\n",
    "\n",
    "> superficie\n",
    ">\n",
    "> distrito\n",
    "\n",
    "Implementa la siguiente casuística:\n",
    "\n",
    "1. Si el distrito es \"Moncloa\" o \"Centro\", y además la superficie es superior a 100 metros cuadrados, el precio de la casa es de 1000\n",
    "2. Si el distrito es \"Salamanca\", y además la superficie de la casa es al menos de 150 metros, el precio de la casa es de 1500\n",
    "3. Si el distrito no es \"Retiro\" y la superficie está entre 60 y 80 metros, el precio es de 600\n",
    "4. En cualquier otro caso, el precio será de 0"
   ]
  },
  {
   "cell_type": "code",
   "execution_count": null,
   "metadata": {},
   "outputs": [],
   "source": [
    "distrito = input(\"Introduzca el distrito que desea verificar\")\n",
    "superficie = float(input(\"Introduzca la superficie en metros cuadrados\"))\n",
    "if (distrito == \"Moncloa\" or distrito == \"Centro\") and superficie > 100:\n",
    "    print(\"el precio es 1000\")\n",
    "elif (distrito == \"Salamanca\") and superficie >= 150:\n",
    "    print(\"el precio es 1500\")\n",
    "elif (distrito != \"Retiro\") and superficie >= 60 and superficie <= 80:\n",
    "    print(\"el precio es 600\")\n",
    "else:\n",
    "    print(\"el precio es 0\")\n"
   ]
  },
  {
   "cell_type": "markdown",
   "metadata": {},
   "source": [
    "## Ejercicio 3\n",
    "En este ejercicio vamos a realizar un programa muy parecido. Para este caso queremos que se cumplan las siguientes condiciones:\n",
    "\n",
    "1. Primero se compruebe si el distrito es \"Retiro\". Si es asá, que imprima \"Distrito Retiro\", y si no, \"Otro distrito\"\n",
    "2. Si el distrito es \"Retiro\", comprueba si la superficie es mayor de 100 metros cuadrados. En tal caso, que imprima un precio de 1000, y si no, de 500.\n",
    "\n",
    "Prueba a usar `ifs` anidados"
   ]
  },
  {
   "cell_type": "code",
   "execution_count": null,
   "metadata": {},
   "outputs": [],
   "source": [
    "# Mal, volver a hacer el if dentro del otro if\n",
    "\n",
    "distrito = input(\"Introduzca el distrito que desea verificar\")\n",
    "superficie = float(input(\"Introduzca la superficie en metros cuadrados\"))\n",
    "if distrito == \"Retiro\":\n",
    "    print(\"Dsitrito Retiro\")\n",
    "elif distrito != \"Retiro\":\n",
    "    print(\"Otro Retiro\")\n",
    "if superficie > 100:\n",
    "    print(\"El precio es de: 1000€\")\n",
    "elif superficie < 100:\n",
    "    print(\"El precio es 500€\")\n"
   ]
  },
  {
   "cell_type": "code",
   "execution_count": null,
   "metadata": {},
   "outputs": [],
   "source": []
  },
  {
   "cell_type": "markdown",
   "metadata": {},
   "source": [
    "## Ejercicio 4\n",
    "Escribe un programa que tenga dos variables: un numero, y una lista numérica. El programa debe recorrer la lista e imprimir por pantalla cada elemento de la lista multiplicado por el número"
   ]
  },
  {
   "cell_type": "code",
   "execution_count": null,
   "metadata": {},
   "outputs": [],
   "source": [
    "lista_numerica = [50,20,3,4,5,6]\n",
    "numero = 10\n",
    "for x in range(len(lista_numerica)):\n",
    "    print(lista_numerica[x]*numero)\n",
    "print(lista_numerica)"
   ]
  },
  {
   "cell_type": "code",
   "execution_count": null,
   "metadata": {},
   "outputs": [],
   "source": [
    "# Esto me lo ha comentado David para hacerlo mas sencillo.\n",
    "lista_numerica = [1,20,3,78,5,6]\n",
    "numero = 10\n",
    "for x in lista_numerica:\n",
    "    print(x*numero)\n"
   ]
  },
  {
   "cell_type": "code",
   "execution_count": null,
   "metadata": {},
   "outputs": [],
   "source": []
  },
  {
   "cell_type": "code",
   "execution_count": null,
   "metadata": {},
   "outputs": [],
   "source": []
  },
  {
   "cell_type": "code",
   "execution_count": null,
   "metadata": {},
   "outputs": [],
   "source": []
  },
  {
   "cell_type": "markdown",
   "metadata": {},
   "source": [
    "## Ejercicio 5\n",
    "Imprime por pantalla cada número del -10 al -1. En ese orden. Consulta [la documentación](https://www.w3schools.com/python/ref_func_range.asp) de `range`"
   ]
  },
  {
   "cell_type": "code",
   "execution_count": null,
   "metadata": {},
   "outputs": [],
   "source": [
    "for x in range(-10, 0,):\n",
    "    print(x)"
   ]
  },
  {
   "cell_type": "code",
   "execution_count": null,
   "metadata": {},
   "outputs": [],
   "source": []
  },
  {
   "cell_type": "code",
   "execution_count": null,
   "metadata": {},
   "outputs": [],
   "source": []
  },
  {
   "cell_type": "markdown",
   "metadata": {},
   "source": [
    "## Ejercicio 6\n",
    "Dada la siguiente lista:\n",
    "\n",
    "> list1 = [12, 15, 32, 42, 55, 75, 122, 132, 150, 180, 200]\n",
    "\n",
    "Implementa un programa que los recorra e imprima por pantalla todos los divisibles por 5. Si nos encontramos con alguno que sea mayor que 150, detener el bucle."
   ]
  },
  {
   "cell_type": "code",
   "execution_count": null,
   "metadata": {},
   "outputs": [],
   "source": [
    "\n",
    "list1 = [12, 15, 32, 42, 55, 75, 122, 132, 150, 180, 200]\n",
    "for x in range(len(list1)):\n",
    "    if list1[x] % 5 == 0:\n",
    "        print(list1[x])\n",
    "    if list1[x] >= 150: # Esta es la condicion, siempre va a la misma altura que el \"if\" que queremos parar.\n",
    "        break # Se usa para parar el bucle, si se cumple la condicion de arriba"
   ]
  },
  {
   "attachments": {},
   "cell_type": "markdown",
   "metadata": {},
   "source": [
    "## Ejercicio 7\n",
    "Escribe un programa en Python que imprima por pantalla todos los números que cumplan que sean divisibles por 5 y divisibles por 7, dentro del rango de valores (150, 350)."
   ]
  },
  {
   "cell_type": "code",
   "execution_count": null,
   "metadata": {},
   "outputs": [],
   "source": [
    "for x in range(150,351):\n",
    "    if (x) % 5 == 0 and x % 7 == 0: \n",
    "        print(x)"
   ]
  },
  {
   "cell_type": "markdown",
   "metadata": {},
   "source": [
    "## Ejercicio 8\n",
    "Implementa un programa que imprima por pantalla el siguiente patrón\n",
    "\n",
    "5 4 3 2 1 \n",
    "\n",
    "4 3 2 1 \n",
    "\n",
    "3 2 1 \n",
    "\n",
    "2 1 \n",
    "\n",
    "1\n",
    "\n",
    "NOTA: NO hay lineas en blanco entre una línea y otra."
   ]
  },
  {
   "cell_type": "code",
   "execution_count": null,
   "metadata": {},
   "outputs": [],
   "source": [
    "# NO SE HACE ASI ASÍ PERO NO SE ME OOCURRIO OTRA FORMA.\n",
    "# NO ES PRACTICO DADO QUE SI ME CAMBIAN SECUENCIA O ME AÑADEN ELEMENTOS, HABRIA QUE CAMBIARLO A MANO.\n",
    "print(\"5 4 3 2 1\\n\\n 4 3 2 1\\n\\n 3 2 1\\n\\n 2 1\\n\\n 1\")"
   ]
  },
  {
   "cell_type": "code",
   "execution_count": null,
   "metadata": {},
   "outputs": [],
   "source": [
    "#LA IA ME HA DADO ESTO, PERO NO LO ENTIENDO. ADEMAS DE QUE NO TIENE LOS ESPACIO ENTRE LINEAS.\n",
    "for inicio in range(5, 0, -1):\n",
    "    for num in range(inicio, 0, -1):\n",
    "        print(num, end=' ')\n",
    "    print()"
   ]
  },
  {
   "cell_type": "code",
   "execution_count": null,
   "metadata": {},
   "outputs": [],
   "source": []
  },
  {
   "cell_type": "code",
   "execution_count": null,
   "metadata": {},
   "outputs": [],
   "source": []
  },
  {
   "cell_type": "markdown",
   "metadata": {},
   "source": [
    "## Ejercicio 9\n",
    "En este ejercicio vamos a crear un pequeño juego. Se trata de intentar adivinar un numero del 1 al 5. Tenemos dos intentos para acertar. Pasos a seguir:\n",
    "\n",
    "1. Ya viene implementado con la librería `random` cómo obtener un número aleatorio del 1 al 5\n",
    "2. Tendrás que declarar en una variable el numero de vidas, y mediante un bucle while, comprobar que todavia quedan vidas.\n",
    "3. Dentro del bucle, obtener el valor del usuario y comprobar si es ese el numero a adivinar. Si no, actualizar las vidas.\n",
    "4. Si acertamos, salimos del bucle e imprimimos por pantalla \"You win\". Y si perdemos también salimos del bucle, pero en este caso imprimimos por pantalla \"You lose\".\n",
    "\n",
    "TIP: te puede resultar útil usar la sentencia `else` cuando acabe el bucle `while`. Lo que haya dentro de ese `else` se ejecutará una vez acabe la ejecución del `while`. Lo podrás usar para cuando pierdas."
   ]
  },
  {
   "cell_type": "code",
   "execution_count": null,
   "metadata": {},
   "outputs": [],
   "source": [
    "import random"
   ]
  },
  {
   "cell_type": "code",
   "execution_count": null,
   "metadata": {},
   "outputs": [],
   "source": [
    "# EJERCICIO 9\n",
    "\n",
    "vidas = 2\n",
    "num = random.randint(1,50)\n",
    "revancha = [\"si\", \"no\"]\n",
    "#print(num)\n",
    "\n",
    "while vidas > 0:\n",
    "    intento = int(input(\"Intenta adivinar el numero!\"))\n",
    "    if intento == num:\n",
    "        print(\"You win\")\n",
    "        break   \n",
    "    vidas = vidas - 1\n",
    "    print(f\"Fallaste! vuelve a intentarlo, tienes\", vidas, \"vidas\")\n",
    "else:\n",
    "    print(\"You lose\")\n"
   ]
  },
  {
   "cell_type": "code",
   "execution_count": null,
   "metadata": {},
   "outputs": [],
   "source": [
    "# INTENTO DE REPETECION DEL JUEGO CONSTANTEMENTE\n",
    "\n",
    "\n",
    "revancha = True\n",
    "#print(num)\n",
    "# Poner el primer bucle dentro de un bucle infinito en el cual se salga cuando no quiera la revancha\n",
    "while revancha:\n",
    "    break\n",
    "vidas = 2\n",
    "num = random.randint(1,50)\n",
    "    # Juego principal\n",
    "while vidas > 0:\n",
    "    intento = int(input(\"Intenta adivinar el numero!\"))\n",
    "    if intento == num:\n",
    "        print(\"You win\")\n",
    "        break   \n",
    "    vidas = vidas - 1\n",
    "    print(f\"Fallaste! vuelve a intentarlo, tienes\", vidas, \"vidas\")\n",
    "#if vidas == 0:\n",
    "else:\n",
    "    print(\"You lose\")\n",
    "# Preguntar si quiere jugar y volver a empezar\n",
    "    while vidas == 0 or intento == num:\n",
    "            revancha = input(\"Quieres volver a jugar?\")\n",
    "            continue\n",
    "print(\"Que pena!\")"
   ]
  },
  {
   "cell_type": "code",
   "execution_count": null,
   "metadata": {},
   "outputs": [],
   "source": [
    " if revancha == \"si\":\n",
    "            while vidas > 0:\n",
    "                intento = int(input(\"Intenta adivinar el numero!\"))\n",
    "                if intento == num:\n",
    "                    print(\"You win\")\n",
    "                    break\n",
    "                vidas = vidas - 1\n",
    "                print(f\"Fallaste! vuelve a intentarlo, tienes\", vidas, \"vidas\")\n",
    "        if revancha == \"no\":\n",
    "            print(\"Que pena!\")\n",
    "            break"
   ]
  },
  {
   "cell_type": "code",
   "execution_count": null,
   "metadata": {},
   "outputs": [],
   "source": []
  },
  {
   "cell_type": "code",
   "execution_count": null,
   "metadata": {},
   "outputs": [],
   "source": []
  }
 ],
 "metadata": {
  "kernelspec": {
   "display_name": "Python 3",
   "language": "python",
   "name": "python3"
  },
  "language_info": {
   "codemirror_mode": {
    "name": "ipython",
    "version": 3
   },
   "file_extension": ".py",
   "mimetype": "text/x-python",
   "name": "python",
   "nbconvert_exporter": "python",
   "pygments_lexer": "ipython3",
   "version": "3.11.9"
  }
 },
 "nbformat": 4,
 "nbformat_minor": 4
}
