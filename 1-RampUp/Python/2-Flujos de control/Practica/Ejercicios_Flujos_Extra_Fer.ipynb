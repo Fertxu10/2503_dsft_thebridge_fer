{
 "cells": [
  {
   "cell_type": "markdown",
   "metadata": {},
   "source": [
    "![imagen](./img/ejercicios.png)"
   ]
  },
  {
   "cell_type": "markdown",
   "metadata": {},
   "source": [
    "# Ejercicios Flujos de control"
   ]
  },
  {
   "cell_type": "markdown",
   "metadata": {},
   "source": [
    "## Ejercicio 1\n",
    "Programa una calculadora que\n",
    "\n",
    "* Pregunte qué operación quieres realizar (multiplicación/división/suma/resta/potencia/salir)\n",
    "* Pida dos números \n",
    "* Realice la operación\n",
    "* Siga funcionando hasta que el usuario elija salir\n",
    "\n",
    "#### Bonus:\n",
    "* Que guarde todas las operaciones realizadas y las imprima por pantalla cuando el usuario elija esa opción\n",
    "* Que no "
   ]
  },
  {
   "cell_type": "code",
   "execution_count": null,
   "metadata": {},
   "outputs": [],
   "source": [
    "validacion = [\"multiplicación\", \"división\", \"suma\", \"resta\", \"potencia\", \"salir\"] # Creamos una lista con las opciones. (Idea de David)\n",
    "\n",
    "while True:\n",
    "    # Pedimos que introduzcan la operacion que quieren hacer. Pero con el if not nos aseguramos de que metan un valor que este en la lista para luego pedir los numeros.\n",
    "    operacion = input(\"Que operación quieres realizar?\")\n",
    "    if not operacion in validacion:\n",
    "        print(\"Introduzca una operacion valida\")\n",
    "        continue\n",
    "    if operacion == \"salir\": # Si decide salir, se termina el bucle ahi.\n",
    "        break\n",
    "   # Pedimos los numeros.\n",
    "    num_1 = float(input(\"Elija un numero\"))\n",
    "    num_2 = float(input(\"Elija un numero \"))\n",
    "    # Depende la operacion que decida, se ejecuta una condicion o otra.\n",
    "    if operacion == \"multiplicacion\":\n",
    "        resultado = num_1 * num_2\n",
    "        print(f\"El resultado es\", resultado)\n",
    "    elif operacion == \"división\":\n",
    "        resultado = num_1 / num_2\n",
    "        print(f\"El resultado es\", resultado)\n",
    "    elif operacion == \"suma\":\n",
    "        resultado = num_1 + num_2\n",
    "        print(f\"El resultado es\", resultado)\n",
    "    elif operacion == \"resta\":\n",
    "        resultado = num_1 - num_2\n",
    "        print(f\"El resultado es\", resultado)\n",
    "    elif operacion == \"potencia\":\n",
    "        resultado = num_1 ** num_2\n",
    "        print(f\"El resultado es\", resultado)\n",
    "    \n"
   ]
  },
  {
   "cell_type": "code",
   "execution_count": null,
   "metadata": {},
   "outputs": [],
   "source": [
    "# INTENTO DE BONUS\n",
    "\n",
    "historial = []\n",
    "validacion = [\"multiplicación\", \"división\", \"suma\", \"resta\", \"potencia\", \"salir\"] # Creamos una lista con las opciones. (Idea de David)\n",
    "\n",
    "while True:\n",
    "    # Pedimos que introduzcan la operacion que quieren hacer. Pero con el if not nos aseguramos de que metan un valor que este en la lista para luego pedir los numeros.\n",
    "    operacion = input(\"Que operación quieres realizar?\" \"multiplicación\", \"división\", \"suma\", \"resta\", \"potencia\", \"salir\")\n",
    "    if not operacion in validacion:\n",
    "        print(\"Introduzca una operacion valida\")\n",
    "        continue\n",
    "    if operacion == \"salir\": # Si decide salir, se termina el bucle ahi.\n",
    "        break\n",
    "   # Pedimos los numeros.\n",
    "    num_1 = float(input(\"Elija un numero\"))\n",
    "    num_2 = float(input(\"Elija un numero \"))\n",
    "    # Depende la operacion que decida, se ejecuta una condicion o otra.\n",
    "    if operacion == \"multiplicación\":\n",
    "        resultado = num_1 * num_2\n",
    "        print(f\"El resultado es\", resultado)\n",
    "        respuesta_historial = input(\"Desea guardar su resultado?\")\n",
    "        if respuesta_historial == \"si\":\n",
    "            historial.append(resultado)\n",
    "        elif respuesta_historial == \"no\":\n",
    "            continue \n",
    "    elif operacion == \"división\":\n",
    "        resultado = num_1 / num_2\n",
    "        print(f\"El resultado es\", resultado)\n",
    "        respuesta_historial = input(\"Desea guardar su resultado?\")\n",
    "        if respuesta_historial == \"si\":\n",
    "            historial.append(resultado)\n",
    "        elif respuesta_historial == \"no\":\n",
    "            continue \n",
    "    elif operacion == \"suma\":\n",
    "        resultado = num_1 + num_2\n",
    "        print(f\"El resultado es\", resultado)\n",
    "        respuesta_historial = input(\"Desea guardar su resultado?\")\n",
    "        if respuesta_historial == \"si\":\n",
    "            historial.append(resultado)\n",
    "        elif respuesta_historial == \"no\":\n",
    "            continue \n",
    "    elif operacion == \"resta\":\n",
    "        resultado = num_1 - num_2\n",
    "        print(f\"El resultado es\", resultado)\n",
    "        respuesta_historial = input(\"Desea guardar su resultado?\")\n",
    "        if respuesta_historial == \"si\":\n",
    "            historial.append(resultado)\n",
    "        elif respuesta_historial == \"no\":\n",
    "            continue \n",
    "    elif operacion == \"potencia\":\n",
    "        resultado = num_1 ^ num_2\n",
    "        print(f\"El resultado es\", resultado)\n",
    "        respuesta_historial = input(\"Desea guardar su resultado?\")\n",
    "        if respuesta_historial == \"si\":\n",
    "            historial.append(resultado)\n",
    "        elif respuesta_historial == \"no\":\n",
    "            continue\n",
    "print(f\"Gracias por jugar, su historial ha sido de\", historial)\n",
    "    \n"
   ]
  }
 ],
 "metadata": {
  "kernelspec": {
   "display_name": "Python 3",
   "language": "python",
   "name": "python3"
  },
  "language_info": {
   "codemirror_mode": {
    "name": "ipython",
    "version": 3
   },
   "file_extension": ".py",
   "mimetype": "text/x-python",
   "name": "python",
   "nbconvert_exporter": "python",
   "pygments_lexer": "ipython3",
   "version": "3.11.9"
  }
 },
 "nbformat": 4,
 "nbformat_minor": 4
}
