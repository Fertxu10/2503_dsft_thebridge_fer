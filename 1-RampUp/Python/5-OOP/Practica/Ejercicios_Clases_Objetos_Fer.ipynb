{
 "cells": [
  {
   "cell_type": "markdown",
   "metadata": {},
   "source": [
    "![imagen](./img/ejercicios.png)\n",
    "\n",
    "# Ejercicios Clases y Objetos"
   ]
  },
  {
   "attachments": {},
   "cell_type": "markdown",
   "metadata": {},
   "source": [
    "## Ejercicio 1\n",
    "Somos una empresa que tiene varias tiendas de electrodomésticos. Necesitamos un programa para manejar las tiendas, ver las ventas que han tenido, cuántos empleados hay, etc... Para ello vamos a modelizar la tienda en una clase, que tendrá las siguientes características:\n",
    "* Nombre clase: \"Tienda\"\n",
    "* Atributos comunes:\n",
    "    * Tipo: \"Electrodomésticos\"\n",
    "    * Abierta: True\n",
    "* Atributos propios de cada tienda:\n",
    "    * Nombre - String\n",
    "    * Dirección - String\n",
    "    * Número de empleados - int\n",
    "    * Ventas últimos 3 meses - Lista de 3 numeros\n",
    "* Método para calcular las ventas de todos los meses, que devuelva un número con todas las ventas.\n",
    "* Método que calcula la media de ventas de los últimos meses, por empleado\n",
    "* Método que devuelve en un string el nombre de la tienda, junto con su dirección.\n",
    "* Método que obtiene las ventas del último mes.\n",
    "* Método para dar una proyección de las ventas en caso de haber invertido X dinero en marketing en esa tienda. Siendo X el parámetro de entrada. Si X es menor de 1000, las ventas de los ultimos 3 meses hubiesen sido de (1.2 x ventas), si es mayor o igual de 1000, las ventas hubiesen sido de (1.5 x venta). El método reescribe el atributo de ventas en los últimos 3 meses, y además devuelve las ventas con el aumento.\n",
    "\n",
    "Se pide:\n",
    "1. Implementar la clase \"Tienda\"\n",
    "2. Crear tres tiendas con datos inventados\n",
    "3. Comprueba en al menos una de ellas, todo lo implementado en la clase tienda (sus atributos, media de ventas, ventas/empleado...)\n",
    "3. Calcular las ventas del último mes de todas las tiendas. Para ello usa el bucle `for`\n",
    "4. Imprime por pantalla los nombres de las tiendas cuya dirección lleve el string \"Avenida\"\n",
    "5. Seguro que ya has hecho este apartado... Documenta la clase :)"
   ]
  },
  {
   "cell_type": "code",
   "execution_count": null,
   "metadata": {},
   "outputs": [
    {
     "name": "stdout",
     "output_type": "stream",
     "text": [
      "1600\n",
      "\n",
      "228.57142857142858\n",
      "\n",
      "La tienda media markt  esta en kuna\n",
      "\n",
      "600\n",
      "\n",
      "2400.0\n",
      "\n"
     ]
    }
   ],
   "source": [
    "# Creamos la clase \"Tienda\"\n",
    "class Tienda:\n",
    "    '''\n",
    "    A continuación ponemos los atributos comunes a la clase.\n",
    "\n",
    "    Debjo creamos con el constructor la \"plantilla\" con la que daremos la forma que queremos a nuestros elementos.\n",
    "    '''\n",
    "    tipo = \"electrodomestico\"\n",
    "    abierta = True\n",
    "\n",
    "    def __init__(self, nombre:str, direccion:str, num_empleados:int, ventas_ultimos_3_meses=[100, 200, 300]):\n",
    "        self.nombre = nombre\n",
    "        self.direccion = direccion\n",
    "        self.num_empleados = num_empleados\n",
    "        self.ventas_ultimos_3_meses = ventas_ultimos_3_meses\n",
    "        self.ventas_3_meses_marketing = None\n",
    "    '''\n",
    "    Una vez hecho esto, procedemos a crear los metodos, con los que buscaremos realizar las tareas que se nos piden\n",
    "    '''\n",
    "    \n",
    "\n",
    "    # Método para calculas todas las ventas de los ultimos 3 meses de la empresa. Usamos el sum() y lo guaradmos en una varibale nueva que solo existe en el propio metodo\n",
    "    def todas_ventas(self):\n",
    "        ventas_total = sum(self.ventas_ultimos_3_meses)\n",
    "        #print(type(ventas_total))\n",
    "        return ventas_total\n",
    "    \n",
    "    # Otro método, ahora para calcular la media de venta de los ultimos 3 meses por empleado. Por lo que hacemos un llamado al metodo de arriba para tener directamente el total de las ventas y dividirlo por el num de empleados.\n",
    "    def media_ventas(self):\n",
    "        venta_empelado = self.todas_ventas()/ self.num_empleados\n",
    "        return venta_empelado\n",
    "    \n",
    "    # En este método lo que buscamos es una impresion en pantalla con el nombre y la dirección de la empresa. Usamos el F string para crear la frase.\n",
    "    def direccion_tienda(self):\n",
    "        nombre_direccion = (f\"La tienda {self.nombre}  esta en {self.direccion}\")\n",
    "        return nombre_direccion\n",
    "    \n",
    "    # Este método lo usaremos para saber cuanto han sido las ventas del ultimo mes. Para ello usamos el -1, asi siempre tendremos el ultimo mes, independientemente de la cantidad de numeros que tengamos en la lista \n",
    "    def ventas_ultimo_mes (self):\n",
    "        ultimo_mes = self.ventas_ultimos_3_meses[-1]\n",
    "        return ultimo_mes\n",
    "    \n",
    "    # Aqui queremos hacer una proyeccion de lo que hubieramos vendido en caso de haber hehco una inversion en marketing de X dinero.\n",
    "    def dinero_marketing(self, dinero):\n",
    "        if dinero < 1000:\n",
    "            self.ventas_3_meses_marketing = self.todas_ventas() * 1.20\n",
    "            return self.ventas_3_meses_marketing\n",
    "        elif dinero >= 1000:\n",
    "            self.ventas_3_meses_marketing = self.todas_ventas() * 1.50\n",
    "            #print(type(self.ventas_3_meses_marketing))\n",
    "            return self.ventas_3_meses_marketing\n",
    "\n",
    "\n",
    "\n",
    "# Creamos las tiendas que nos pide el ejercicio\n",
    "\n",
    "media_markt = Tienda(\"media markt\", \"kuna\", 7, [500,500,600])\n",
    "pc_componentes = Tienda(\"pc_componentes\", \"algun sitio\", 3, [700,200,300])\n",
    "wallmart = Tienda(\"wallmart\", \"lejos\", 45, [1500,2000,3000])\n",
    "\n",
    "\n",
    "\n",
    "\n",
    "\n",
    "\n",
    "\n",
    "\n",
    "\n",
    "        \n",
    "        \n"
   ]
  },
  {
   "cell_type": "code",
   "execution_count": null,
   "metadata": {},
   "outputs": [
    {
     "name": "stdout",
     "output_type": "stream",
     "text": [
      "1600\n",
      "\n",
      "228.57142857142858\n",
      "\n",
      "La tienda media markt  esta en kuna\n",
      "\n",
      "600\n",
      "\n",
      "2400.0\n",
      "\n"
     ]
    }
   ],
   "source": [
    "# Hacemos todos los print de los metodos comprobando que funcionan y realizando otro de los ejercicios que se piden\n",
    "\n",
    "print(media_markt.todas_ventas())\n",
    "print()\n",
    "print(media_markt.media_ventas())\n",
    "print()\n",
    "print(media_markt.direccion_tienda())\n",
    "print()\n",
    "print(media_markt.ventas_ultimo_mes())\n",
    "print()\n",
    "print(media_markt.dinero_marketing(1500))\n",
    "print()"
   ]
  },
  {
   "cell_type": "code",
   "execution_count": null,
   "metadata": {},
   "outputs": [
    {
     "name": "stdout",
     "output_type": "stream",
     "text": [
      "3900\n"
     ]
    }
   ],
   "source": [
    "# Por ultimo, usando un ciclo for, sacamos las ventas de el ultimo mes en todas nuestras tiendas y los sumamos teniendo un resultado global.\n",
    "\n",
    "ventas_todas_tiendas = []\n",
    "\n",
    "for total in (media_markt, pc_componentes, wallmart):\n",
    "    #total_ultimo_mes = media_markt.ventas_ultimo_mes() + pc_componentes.ventas_ultimo_mes() + wallmart.ventas_ultimo_mes()\n",
    "    ventas_todas_tiendas.append(total.ventas_ultimo_mes())\n",
    "print (sum(ventas_todas_tiendas))"
   ]
  },
  {
   "cell_type": "code",
   "execution_count": null,
   "metadata": {},
   "outputs": [],
   "source": []
  },
  {
   "cell_type": "code",
   "execution_count": null,
   "metadata": {},
   "outputs": [],
   "source": []
  },
  {
   "cell_type": "code",
   "execution_count": null,
   "metadata": {},
   "outputs": [],
   "source": []
  },
  {
   "cell_type": "code",
   "execution_count": 18,
   "metadata": {},
   "outputs": [],
   "source": []
  },
  {
   "cell_type": "code",
   "execution_count": null,
   "metadata": {},
   "outputs": [],
   "source": []
  },
  {
   "cell_type": "code",
   "execution_count": null,
   "metadata": {},
   "outputs": [],
   "source": []
  },
  {
   "cell_type": "code",
   "execution_count": null,
   "metadata": {},
   "outputs": [],
   "source": []
  },
  {
   "cell_type": "markdown",
   "metadata": {},
   "source": [
    "## Ejercicio 2\n",
    "En este ejercicio vamos a implementar una clase *Perro* en Python. La clase tiene las siguientes características:\n",
    "* Cosas que sabemos seguro que tiene un perro\n",
    "    * Tiene 4 patas\n",
    "    * 2 orejas\n",
    "    * 2 ojos\n",
    "    * Una velocidad de 0. Por defecto, el perro está parado\n",
    "* Cuando se inicialice:\n",
    "    * El perro será de una determinada raza\n",
    "    * Por defecto tendrá pelo \"Marrón\", a no ser que se diga lo contrario.\n",
    "    * Por defecto no tendrá dueño, a no ser que se diga lo contrario.\n",
    "    \n",
    "* Dispondrá también de un método llamado andar, que tiene un argumento de entrada (aumento_velocidad). Este valor se le sumará a la velocidad que ya llevaba el perro.\n",
    "* Necesita otro método (parar), donde pondremos la velocidad a 0.\n",
    "* Otro método llamado \"ladrar\", que tendrá un argumento de entrada, y la salida será el siguiente string: \"GUAU!\" + el argumento de entrada.\n",
    "\n",
    "\n",
    "Se pide:\n",
    "* Implementa la clase *Perro*\n",
    "* Crea un objeto de tipo *Perro*, sin dueño\n",
    "* Comprueba que están bien todos sus atributos\n",
    "* Prueba que ande, y comprueba su velocidad\n",
    "* Páralo\n",
    "* Documenta la clase *Perro*"
   ]
  },
  {
   "cell_type": "code",
   "execution_count": null,
   "metadata": {},
   "outputs": [],
   "source": [
    "class Perro:\n",
    "    patas = 4\n",
    "    orejas = 2\n",
    "    ojos = 2\n",
    "    Velocidad = 0\n",
    "\n",
    "    def __init__(self, raza, pelo=\"Marron\", dueño=False):\n",
    "        "
   ]
  },
  {
   "cell_type": "code",
   "execution_count": 32,
   "metadata": {},
   "outputs": [],
   "source": []
  },
  {
   "cell_type": "code",
   "execution_count": null,
   "metadata": {},
   "outputs": [],
   "source": []
  },
  {
   "cell_type": "code",
   "execution_count": null,
   "metadata": {},
   "outputs": [],
   "source": []
  },
  {
   "cell_type": "code",
   "execution_count": null,
   "metadata": {},
   "outputs": [],
   "source": []
  }
 ],
 "metadata": {
  "kernelspec": {
   "display_name": "Python 3",
   "language": "python",
   "name": "python3"
  },
  "language_info": {
   "codemirror_mode": {
    "name": "ipython",
    "version": 3
   },
   "file_extension": ".py",
   "mimetype": "text/x-python",
   "name": "python",
   "nbconvert_exporter": "python",
   "pygments_lexer": "ipython3",
   "version": "3.11.9"
  }
 },
 "nbformat": 4,
 "nbformat_minor": 4
}
