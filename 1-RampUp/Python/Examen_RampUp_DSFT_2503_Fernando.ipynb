{
 "cells": [
  {
   "cell_type": "markdown",
   "metadata": {},
   "source": [
    "# Test RAMP UP DS-FT Marzo 2025"
   ]
  },
  {
   "cell_type": "markdown",
   "metadata": {},
   "source": [
    "Antes de comenzar, cambia el nombre del archivo notebook poniéndole delante tu nombre y primer apellido:\n",
    "\n",
    "* nombre_apellido_test_pract_marzo_2025.ipynb"
   ]
  },
  {
   "cell_type": "code",
   "execution_count": null,
   "metadata": {},
   "outputs": [],
   "source": [
    "# Escribe tu nombre y apellidos (apellido si solo tienes uno) en las variables:\n",
    "nombre = \"Fernando\"\n",
    "apellidos = \"Sanchez Llorens\""
   ]
  },
  {
   "cell_type": "code",
   "execution_count": null,
   "metadata": {},
   "outputs": [],
   "source": [
    "# Solo ejecutar\n",
    "nombre_apellidos = nombre + ' ' + apellidos\n",
    "print(\"Bienvenido\", nombre_apellidos + '. Mucha suerte!')"
   ]
  },
  {
   "cell_type": "markdown",
   "metadata": {},
   "source": [
    "-----------------"
   ]
  },
  {
   "cell_type": "code",
   "execution_count": null,
   "metadata": {},
   "outputs": [],
   "source": [
    "\"\"\"\n",
    "Criterios de corrección:\n",
    "\n",
    "ejecución (ausencia de errores y obtención de resultados)\n",
    "estructura del código\n",
    "uso correcto de variables\n",
    "manejo de tipo de variables\n",
    "asignaciones\n",
    "operaciones booleanas\n",
    "manejo lógico de flujos de control y bucles\n",
    "uso de colecciones\n",
    "uso de funciones\n",
    "\"\"\"\n",
    "\n",
    "# Ejemplo de como queremos ver el código para más de un intento:\n",
    "\n",
    "# intento 1\n",
    "#your code\n",
    "\n",
    "# intento 2\n",
    "#your code"
   ]
  },
  {
   "cell_type": "markdown",
   "metadata": {},
   "source": [
    "#### Notas y pruebas de apoyo para contestar las preguntas\n",
    "\n",
    "\n",
    "Cualquier código aunque no esté correcto nos dirá más de ti que no escribir nada. "
   ]
  },
  {
   "cell_type": "code",
   "execution_count": null,
   "metadata": {},
   "outputs": [],
   "source": [
    "# No te olvides de documentar el código para dejar clara la lógica, sobre todo cuando no sale el resultado"
   ]
  },
  {
   "cell_type": "markdown",
   "metadata": {},
   "source": [
    "### Ejercicio 1\n",
    "En este ejercicio se va a crear una lista con los siguientes elementos. Primero, crearemos las variables que luego añadiremos a la lista. Las variables son las siguientes:\n",
    "\n",
    "1. Crea una variable llamada `edad` de tipo Integer que represente tu edad en años. \n",
    "2. Crea una variable llamada `poblacion` de tipo String , con tu población de nacimiento. \n",
    "3. Crea una variable llamada `altura` con el valor de tu altura en metros de tipo float.\n",
    "4. Crea una variable llamada `s_operativo` de tipo Boolean True si usas Windows y False si usas otro.\n",
    "5. Crea una variable llamada `nada` de tipo None cuyo valor sea None.\n",
    "6. Crea una variable llamada `lista_vacaciones` de tipo List que contenga 5 destinos de viaje a los que te gustaría ir. Cada elemento ha de ser de tipo String.\n",
    "7. Crea una variable llamada `tupla_isla` de tipo Tuple con tres objetos que te llevarías a una isla desierta.\n",
    "8. Crea una variable llamada `dict_pc` con dos keys y dos values. Una key es `marca`, teniendo como value la marca de tu pc de tipo String. Otra key es la `ram`, cuyo valor es es un entero del número de gigas de la ram de tu ordenador\n",
    "9. Añade todos estos elementos en una lista llamada `lista_examen` en el orden de aparición.\n",
    "10. Guarda en la variable `lon_lista_examen` la longitud de `lista_examen`."
   ]
  },
  {
   "cell_type": "code",
   "execution_count": null,
   "metadata": {},
   "outputs": [],
   "source": [
    "edad = 27 # Creamos una variable llamada edad, con la edad real del usuario que realiza el examen \n",
    "altura = 1.63 # Creamos una variable con la altura en metros de la persona que realiza el examen \n",
    "poblacion = \"Rosario\" # Creamos una variable llamada poblacion, con la poblacion de nacimiento del usuario que realiza el examen, en este caso Argentina\n",
    "s_operativo = True # Creamos esta variable de tipo boleano, que se guia true o false dependiende si usas Windows o otro sistema operativo \n",
    "nada = None # Creamos esta variable llamada nada.\n",
    "lista_vacaciones = [\"roma\", \"japon\", \"florencia\", \"grecia\", \"new yokr\"] # Creamos una variable con los destinos favoritos, en tipo lista\n",
    "tupla_lista = (\"agua\", \"comida\", \"tela\") # Creamos una tupla de 3 elementos\n",
    "dict_pc = {\"marca\": \"asus\",\n",
    "           \"ram\": 16} # Creamos un pequeño diccionario con las especificacion del ordenador del usuario\n",
    "''' \n",
    "Creamos una lista, añadiendo todas las variable de arriba y luego imprimimos esa lista para comprobar que esta bien e imprimimos tambien el rango de esa lista con len, para saber la longitud de la lista\n",
    "'''\n",
    "lista_examen = [edad, poblacion, altura, s_operativo, nada, lista_vacaciones, tupla_lista, dict_pc] \n",
    "print(lista_examen)\n",
    "print(len(lista_examen))"
   ]
  },
  {
   "cell_type": "markdown",
   "metadata": {},
   "source": [
    "### Ejercicio 2\n",
    "\n",
    "Escribe un programa que simule un libro de \"sigue tu propia aventura\". Solo se pide control de flujo y uso de print().\n",
    "\n",
    "El programa tiene dos variables:\n",
    "\n",
    "*puerta* --> es una variable de tipo entero\n",
    "\n",
    "*amuleto* --> es una variable booleana\n",
    "\n",
    "\n",
    "    · Si la puerta que eliges es la 1, imprime \"has perdido\"\n",
    "\n",
    "    · Si la puerta que eliges es la 2 y tienes el amuleto (verdadero), imprime \"has ganado\"\n",
    "\n",
    "    · En cualquier otro caso, imprime \"sigue jugando\"\n",
    "\n",
    "Haz este programa de dos formas: usando un AND y sin usar un AND\n",
    "\n",
    "Nota: no son necesarias funciones. Puedes declarar puerta y amuleto al principio de tu programa."
   ]
  },
  {
   "cell_type": "code",
   "execution_count": 6,
   "metadata": {},
   "outputs": [
    {
     "name": "stdout",
     "output_type": "stream",
     "text": [
      "Bienvenido al juego de elige tu propia aventura, aqui tienes que decidir que puerta escojes y si tienes o no el preciado amuleto. Buena Suerte!\n",
      "sigue jugando\n"
     ]
    }
   ],
   "source": [
    "# Creamos un print para dar la bienvenida al libro\n",
    "print(\"Bienvenido al juego de elige tu propia aventura, aqui tienes que decidir que puerta escojes y si tienes o no el preciado amuleto. Buena Suerte!\")\n",
    "\n",
    "# Pedimos por inputs que decidan la puerta y si tiene o no el amuleto para luego pasar a las diferentes opciones \n",
    "puerta = int(input(\"elige tu puerta, tienes opcion 1 y 2. Buena suerte!\"))\n",
    "amuleto = (input(\"Tienes el amuleto...?\"))\n",
    "\n",
    "''' \n",
    "Aqui no le he prestado mucho tiempo.\n",
    "\n",
    "Mi idea era usar las condiciones para tomar un camino u otro.\n",
    "He probado la forma del AND pero cuando pongo que tiene 1 puerta y no tiene el amuelto, me salta el print del primer if y el else, ambos. Cuando deberia saltar solo el else.\n",
    "'''\n",
    "\n",
    "if puerta == 1:\n",
    "    print(\"Has perdido\")\n",
    "if puerta == 2 and amuleto == \"si\":\n",
    "    print(\"Has ganado\")\n",
    "else:\n",
    "    print(\"sigue jugando\")\n",
    "\n",
    "    "
   ]
  },
  {
   "cell_type": "code",
   "execution_count": null,
   "metadata": {},
   "outputs": [],
   "source": [
    "# Creamos un print para dar la bienvenida al libro\n",
    "print(\"Bienvenido al juego de elige tu propia aventura, aqui tienes que decidir que puerta escojes y si tienes o no el preciado amuleto. Buena Suerte!\")\n",
    "\n",
    "# Pedimos por inputs que decidan la puerta y si tiene o no el amuleto para luego pasar a las diferentes opciones \n",
    "puerta = int(input(\"elige tu puerta, tienes opcion 1 y 2. Buena suerte!\"))\n",
    "amuleto = (input(\"Tienes el amuleto...?\"))\n",
    "\n",
    "''' \n",
    "Mi idea era usar las condiciones para tomar un camino u otro.\n",
    "\n",
    "Aqui para no usar el AND, lo que he querido hacer es que si el usuario contesta que la puerta es la 2, entro en otro if, \n",
    "donde se comprueba si lleva el amuleto o no para ver si ha ganado o no.\n",
    "'''\n",
    "\n",
    "if puerta == 1:\n",
    "    print(\"Has perdido\")\n",
    "if puerta == 2: \n",
    "    if amuleto == \"si\":\n",
    "        print(\"Has ganado\")\n",
    "else:\n",
    "    print(\"sigue jugando\")"
   ]
  },
  {
   "cell_type": "markdown",
   "metadata": {},
   "source": [
    "### Ejercicio 3\n",
    "\n",
    "Escribe un programa que solicite al usuario un número entero positivo n y luego imprima un triángulo de asteriscos (*) de altura n. Por ejemplo, si el usuario ingresa 5, el programa debería imprimir:"
   ]
  },
  {
   "cell_type": "code",
   "execution_count": null,
   "metadata": {},
   "outputs": [],
   "source": [
    "'''\n",
    "\n",
    "*\n",
    "*  *  \n",
    "*  *  *  \n",
    "*  *  *  *\n",
    "*  *  *  *  *\n",
    "\n",
    "'''"
   ]
  },
  {
   "cell_type": "code",
   "execution_count": null,
   "metadata": {},
   "outputs": [
    {
     "name": "stdout",
     "output_type": "stream",
     "text": [
      "* \n",
      "* * \n",
      "* * * \n",
      "* * * * \n",
      "* * * * * \n"
     ]
    }
   ],
   "source": [
    "lista_asterisco = list(range(5))\n",
    "\n",
    "for i in lista_asterisco:\n",
    "    while( i >= 0):\n",
    "        print(\"*\", end=\" \")\n",
    "        i-=1\n",
    "    print()"
   ]
  },
  {
   "cell_type": "code",
   "execution_count": null,
   "metadata": {},
   "outputs": [],
   "source": [
    "# Este he sido incapaz de hacerlo, me he agobiado y lo he dejado para verlo mas adelante pero no me ha dado tiempo."
   ]
  },
  {
   "cell_type": "code",
   "execution_count": null,
   "metadata": {},
   "outputs": [],
   "source": [
    "# mi idea es pedir un numero + y mayor que 0. y Transformar ese str que te da el input en in int.\n",
    "num = int(input(\"solicite un numero positivo y mayor que 0 por favor\"))\n",
    "\n",
    "# Aqui crear una variable que sea igual al rango de numero que hay entre 1 y el numero escogido y que avanze de 0 a num de 1 en 1. Y eso pasarlo a lista para usarla luego con el len\n",
    "lista_asteriscos = list(range(0, num, 1))\n",
    "\n",
    "# Y aqui mi idea era crear un bucle que se acabe cuando la cantidad de elementos de la lista que hemos creado antes sea inferior al numero elegido. Entonces no entraria mas en bucle\n",
    "while len(lista_asteriscos) < num:\n",
    "\n",
    "    if num <= 0: # Si num es menor o igual que 0, se te pide que vuelvas a elegir un numero.\n",
    "        print(\"Vuelva a elegir un numero. Recuerde, positivo y mayor que 0.\")\n",
    "    if num >= 1: # Si esl numero es mayor o igual que 1 entramos aqui.\n",
    "        lista_acendente = [] # Creo una lista vacia, que se va llenando de la longitud cada vez mayor de 0 hasta num y la imprimo. \n",
    "        print(lista_acendente.append(lista_asteriscos))\n",
    "\n",
    "''' \n",
    "Creo que estoy haciendo mal el ultimo paso, tanto la lista vacia (porque es una lista que solo existe dentro del while, y que cada vez que lleguea mayor que 1 vuelve a estar vacia)\n",
    "por lo cual no se llena nunca en realidad. \n",
    "\n",
    "Y tambien creo que la forma de añadir los numeros no es asi. \n",
    "\n",
    "Pero no he podido ver la solucion\n",
    "'''\n"
   ]
  },
  {
   "cell_type": "code",
   "execution_count": null,
   "metadata": {},
   "outputs": [],
   "source": [
    "# ESTO ES UN EJEMPLO QUE COGI DE UN EJERCICIO QUE HICIMOS DE RESTAR 5 A 0 EN PIRAMIDE TAMBIEN, PARA VER SI ENCONTRABA ASI EL FALLO DEL MIO.\n",
    "\n",
    "x = int(input(\"solicite un numero positivo y mayor que 0 por favor\"))\n",
    "lista_8 = list(range(0,x,))\n",
    "while len(lista_8) < x:\n",
    "    print(*lista_8)\n",
    "    lista_8.append(x)"
   ]
  },
  {
   "cell_type": "markdown",
   "metadata": {},
   "source": [
    "### Ejercicio 4\n",
    "\n",
    "Crea un programa que pida una contraseña por teclado e indique si es correcta\n",
    "o incorrecta con un print(). La contraseña correcta es “python”. Si la contraseña era incorrecta la pide de nuevo hasta 3 veces como máximo. Si al tercer intento no se acierta, debe ponerse a None y poner en un print() que la cuenta se ha bloqueado. Si se consigue entrar, se muestra que es correcta en un print(). Debe haber como mínimo un **BUCLE WHILE**"
   ]
  },
  {
   "cell_type": "code",
   "execution_count": null,
   "metadata": {},
   "outputs": [],
   "source": [
    "# Creamos un bucle con contraseña, en donde pedimos la contraseña con un input\n",
    "\n",
    "while contraseña:\n",
    "    contraseña = input(\"Inserte su contraseña por favor\")\n",
    "\n",
    "    # Comprobamos si la contraseña es igual a python por lo que entonces el usuario puede entrar en su cuenta y se imprime el print y luego salimos del bucle con un break\n",
    "    if contraseña == \"python\":\n",
    "        (print(\"Contraseña correcta\"))\n",
    "        break\n",
    "\n",
    "    # Si la contraseña no es python, empezamos a pedir que vuelan a introducir la contraseña, hasta que este bien o hasta que fallen la 3ra vez y se ejecute el break y se bloquea la cuenta\n",
    "    if contraseña != \"python\":\n",
    "        print(\"Incorrecta\")\n",
    "        contraseña = input(\"Inserte su contraseña por favor, 2do intento\")\n",
    "        if contraseña != \"python\":\n",
    "            print(\"Incorrecta, ultimo intento\")\n",
    "            contraseña = input(\"Inserte su contraseña por favor, ultimo intento\")\n",
    "            if contraseña != \"python\":\n",
    "                print (\"Lo sentimos, su contraseña es incorrecta, su cuenta esta bloqueada\")\n",
    "                break\n",
    "print()\n",
    "contraseña = None\n",
    "print()\n",
    "print(\"Su contraseña se ha restablecido a\", contraseña)"
   ]
  },
  {
   "cell_type": "markdown",
   "metadata": {},
   "source": [
    "### Ejercicio 5\n",
    "Una empresa usa dos listas  para guardar la información de sus empleados. Una lista guarda el nombre del empleado y la otra guarda su salario. Escribe un programa que cree esas dos listas originalmente vacías y que a través de un menú pueda hacer lo siguiente:\n",
    "    \n",
    "Inserta 1 para añadir un nuevo empleado y su salario\n",
    "\n",
    "Inserta 2 para imprimir los nombres y salarios de todos los empleados\n",
    "\n",
    "Inserta 3 para mostrar el número de empleados\n",
    "\n",
    "Inserta 4 para imprimir los nombres de los empleados con sueldos superiores a 400000\n",
    "\n",
    "Inserta 5 para subir un 5% los sueldos por debajo de 10000\n",
    "\n",
    "Inserta 6 para mostrar el total de todos los salarios\n",
    "\n",
    "Inserta 7 para salir del programa"
   ]
  },
  {
   "cell_type": "code",
   "execution_count": 2,
   "metadata": {},
   "outputs": [
    {
     "name": "stdout",
     "output_type": "stream",
     "text": [
      "['1: Añadir empleado y salario',\n",
      " '2: Ver todos los nombres y salarios',\n",
      " '3: Numero total de empleados',\n",
      " '4: Empleados con € > 4000',\n",
      " '5: Subir 5 por ciento sueldo <1000€',\n",
      " '6: Mostar la suma de todos los salarios',\n",
      " '7: Salir del programa']\n",
      "['f'] [2]\n"
     ]
    }
   ],
   "source": [
    "# Importamos pprint para que las opciones salgan de una forma mas bonita\n",
    "import pprint\n",
    "\n",
    "# Creamos las listas vacias de los empleados y los sueldos\n",
    "lista_empleados = []\n",
    "lista_sueldo = []\n",
    "\n",
    "# Mostramos las opciones en pantalla para que la persona pueda leer el menu y  luego decida que numero escoger\n",
    "opciones = [\"1: Añadir empleado y salario\", \"2: Ver todos los nombres y salarios\", \"3: Numero total de empleados\", \"4: Empleados con € > 4000\", \"5: Subir 5 por ciento sueldo <1000€\", \"6: Mostar la suma de todos los salarios\", \"7: Salir del programa\"]\n",
    "\n",
    "# Creamos una validacion, para que solamente tenga que poner los numeros de lo que quiere, en vez de toda la frase.\n",
    "validacion = [\"1\", \"2\", \"3\", \"4\", \"5\", \"6\", \"7\"]\n",
    "pprint.pprint(opciones)\n",
    "while True:\n",
    "    accion = input(\"Introduzca el numero de la accion que quiere realizar?\") # Pedimos el input con la accion que desea, aclaramos que tiene que ser numero\n",
    "    if not accion in validacion: # Hacemos la validacion, viendo que la accion este en validacion.\n",
    "        print(\"Introduzca un numero validao, tiene una lista debajo si tiene dudas.\")\n",
    "        continue\n",
    "    if accion == \"7\":\n",
    "        break\n",
    "    if accion == \"1\":\n",
    "        lista_empleados.append(input(\"introduzca el nombre del empleado que desea añadir\"))\n",
    "        lista_sueldo.append(int(input(\"introduzca el sueldo del empleado que desea añadir\")))\n",
    "    if accion == \"2\":\n",
    "        print(lista_empleados, lista_sueldo)\n",
    "    if accion == \"3\":\n",
    "        print(len(lista_empleados))\n",
    "    if accion == \"4\":\n",
    "        for j in lista_sueldo:\n",
    "            if j > 4000:\n",
    "                print (j)\n",
    "\n",
    "print(lista_empleados, lista_sueldo)\n"
   ]
  },
  {
   "cell_type": "markdown",
   "metadata": {},
   "source": [
    "\n",
    "### Ejercicio 6 (**EXTRA**)\n",
    "\n",
    "#### Crear un programa que calcule la cuota de una hipoteca\n",
    "\n",
    "Las cuotas hipotecarias se calculan utilizando la fórmula del interés francés. \n",
    "\n",
    "La fórmula del interés frances es la siguiente:\n",
    "\\begin{align*}\n",
    "C=V \\frac{(1+i)^n i}{(1+i)^n -1}\n",
    "\\end{align*}\n",
    "\n",
    "\n",
    "    C = cuota a pagar (mensual)\n",
    "    V = volumen del préstamo hipotecario\n",
    "    i = tipo de interés del período (mensual)\n",
    "    n = número de cuotas (mensuales)\n",
    "\n",
    "1. Crea un programa que solicite al usuario los datos de su hipoteca mediante input() los datos (volumen, interés **anual**, y plazo en **años**) y le devuelva la cuota **mensual** a pagar. No es necesario encapsularlo en funciones.\n",
    "\n",
    "2. Crea una función `calcular_hip` que realiza el cálculo y cuyos argumentos de entrada sean `volumen`, `interes_anual` y `años`, devolviendo la couta mensual(float). El argumento de `años` deberá de tener un valor por defecto de 30.\n",
    "3. Calcula la cuota y guárdala en la variable `res_cuota` si la cantidad de la hipoteca son 350000 euros, el interés anual es del 5% y la quiere pagar en 20 años a partir de la función `calcular_hip`.\n",
    "4. Crea una función `gasto_vivienda`, con dos argumentos de entrada `ingreso` y `lista_hip`. Esta lista tendrá los 3 valores de los argumentos de entrada de `calcular_hip`, siendo esta una función que deberá ser utilizada dentro de `gasto_vivienda`. Tiene que devolver el valor del porcentaje de gasto en la hipoteca respecto a los ingresos. (Entre 0 y 1, es decir 0.5 si es del 50%)\n",
    "5. Calcula el porcentaje de gasto en la hipoteca si el ingreso es de 1700 euros y guárdalo en la variable `res_porcentaje`.\n",
    "6. Documenta ambas funciones."
   ]
  },
  {
   "cell_type": "code",
   "execution_count": null,
   "metadata": {},
   "outputs": [],
   "source": []
  },
  {
   "cell_type": "code",
   "execution_count": null,
   "metadata": {},
   "outputs": [],
   "source": []
  },
  {
   "cell_type": "code",
   "execution_count": null,
   "metadata": {},
   "outputs": [],
   "source": []
  },
  {
   "cell_type": "code",
   "execution_count": null,
   "metadata": {},
   "outputs": [],
   "source": []
  },
  {
   "cell_type": "code",
   "execution_count": null,
   "metadata": {},
   "outputs": [],
   "source": []
  },
  {
   "attachments": {},
   "cell_type": "markdown",
   "metadata": {},
   "source": [
    "¡Has terminado!\n",
    "\n",
    "Adjunta este fichero en la tarea del CampusVirtual"
   ]
  }
 ],
 "metadata": {
  "kernelspec": {
   "display_name": "Python 3",
   "language": "python",
   "name": "python3"
  },
  "language_info": {
   "codemirror_mode": {
    "name": "ipython",
    "version": 3
   },
   "file_extension": ".py",
   "mimetype": "text/x-python",
   "name": "python",
   "nbconvert_exporter": "python",
   "pygments_lexer": "ipython3",
   "version": "3.11.9"
  },
  "orig_nbformat": 4,
  "vscode": {
   "interpreter": {
    "hash": "1e989a6a87260c027f3014f78a3a3d191394072689c96a40223c8499353d25ee"
   }
  }
 },
 "nbformat": 4,
 "nbformat_minor": 2
}
