{
 "cells": [
  {
   "cell_type": "code",
   "execution_count": null,
   "id": "30079e93",
   "metadata": {},
   "outputs": [],
   "source": []
  },
  {
   "cell_type": "code",
   "execution_count": null,
   "id": "84dda05b",
   "metadata": {},
   "outputs": [],
   "source": [
    "SELECT * FROM crime_scene_report\n",
    "WHERE city = \"SQL City\" and date = 20180115 and type = \"murder\""
   ]
  },
  {
   "cell_type": "code",
   "execution_count": null,
   "id": "efad9199",
   "metadata": {},
   "outputs": [],
   "source": [
    "# Esto para acceder a los asesinatos en sql city en y en la fecha\n",
    "\n",
    "15:48\n",
    "SELECT * FROM person\n",
    "WHERE (address_street_name = \"Franklin Ave\" and name LIKE 'Annabel%') or (address_street_name = 'Northwestern Dr' AND address_number = (\n",
    "SELECT MAX(address_number)\n",
    "FROM person\n",
    "WHERE address_street_name = 'Northwestern Dr'\n",
    "))\n",
    "ORDER BY address_number DESC"
   ]
  },
  {
   "cell_type": "code",
   "execution_count": null,
   "id": "eb1a7aef",
   "metadata": {},
   "outputs": [],
   "source": [
    "# Para ver que dice la entrevista de Morty y Annabel\n",
    "\n",
    "SELECT * FROM interview\n",
    "WHERE person_id in (16371 , 14887)"
   ]
  },
  {
   "cell_type": "code",
   "execution_count": null,
   "id": "1212b4df",
   "metadata": {},
   "outputs": [],
   "source": [
    "# Sacamos 2 sospechosos con la matricula \n",
    "\n",
    "SELECT * FROM drivers_license\n",
    "WHERE plate_number LIKE \"%H42W%\" AND gender = \"male\""
   ]
  },
  {
   "cell_type": "code",
   "execution_count": null,
   "id": "350e1664",
   "metadata": {},
   "outputs": [],
   "source": [
    "# Sacamos el nombre con la licencia de conducir\n",
    "\n",
    "select * from person\n",
    "WHERE license_id in (423327,664760)"
   ]
  },
  {
   "cell_type": "code",
   "execution_count": null,
   "id": "661c02c1",
   "metadata": {},
   "outputs": [],
   "source": [
    "# Encontramos el nombre de un sospechoso\n",
    "\n",
    "SELECT * FROM get_fit_now_member\n",
    "WHERE person_id in (51739,67318)"
   ]
  },
  {
   "cell_type": "code",
   "execution_count": null,
   "id": "a12cc10c",
   "metadata": {},
   "outputs": [],
   "source": [
    "# Confirmamos que el asesino estuvo en el gimnasio cuando Anabel dijo que lo vio\n",
    "\n",
    "SELECT * FROM get_fit_now_check_in\n",
    "WHERE membership_id = \"48Z55\""
   ]
  },
  {
   "cell_type": "code",
   "execution_count": null,
   "id": "7df555c7",
   "metadata": {},
   "outputs": [],
   "source": [
    "# Miramos a ver a que evento fue el asesino ese dia\n",
    "\n",
    "select * from facebook_event_checkin\n",
    "WHERE person_id in (51739,67318)"
   ]
  },
  {
   "cell_type": "code",
   "execution_count": null,
   "id": "b6ea214f",
   "metadata": {},
   "outputs": [],
   "source": [
    "# Vemos que personas han ido al evento de facebook\n",
    "\n",
    "select * from get_fit_now_member\n",
    "where person_id in (14887,16371,67318)"
   ]
  },
  {
   "cell_type": "code",
   "execution_count": null,
   "id": "d663a481",
   "metadata": {},
   "outputs": [],
   "source": [
    "# Vemos la entrevista del asesino\n",
    "\n",
    "SELECT * FROM interview\n",
    "WHERE person_id = 67318"
   ]
  },
  {
   "cell_type": "code",
   "execution_count": null,
   "id": "2afd262b",
   "metadata": {},
   "outputs": [],
   "source": [
    "# Filtramos por la entrevista del Asesino.\n",
    "\n",
    "select * from drivers_license\n",
    "where car_make= \"Tesla\" and car_model= \"Model S\" and hair_color= \"red\" and (height between 65 and 67)"
   ]
  },
  {
   "cell_type": "code",
   "execution_count": null,
   "id": "f5592ac4",
   "metadata": {},
   "outputs": [],
   "source": [
    "# Buscamos a esas personas y su numero de seguridad social.\n",
    "\n",
    "select * from person\n",
    "where license_id in (202298,291182,918773)"
   ]
  },
  {
   "cell_type": "code",
   "execution_count": null,
   "id": "a4e79052",
   "metadata": {},
   "outputs": [],
   "source": [
    "# Vemos el dinero que tienen en el banco\n",
    "\n",
    "select * from income\n",
    "WHERE ssn in (961388910,337169072,987756388)"
   ]
  },
  {
   "cell_type": "code",
   "execution_count": null,
   "id": "42f99c38",
   "metadata": {},
   "outputs": [],
   "source": [
    "# Y vemos si alguna asistio al evento de facebook\n",
    "\n",
    "select * from facebook_event_checkin\n",
    "WHERE person_id in (78881,99716)"
   ]
  },
  {
   "cell_type": "code",
   "execution_count": null,
   "id": "f114fcfb",
   "metadata": {},
   "outputs": [],
   "source": [
    "# Por lo cual obtenemos que la incitadora es Miranda."
   ]
  }
 ],
 "metadata": {
  "language_info": {
   "name": "python"
  }
 },
 "nbformat": 4,
 "nbformat_minor": 5
}
